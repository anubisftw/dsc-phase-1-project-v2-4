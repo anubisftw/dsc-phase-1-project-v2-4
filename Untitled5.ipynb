{
 "cells": [
  {
   "cell_type": "code",
   "execution_count": 60,
   "id": "56a84396",
   "metadata": {},
   "outputs": [],
   "source": [
    "import pandas as pd\n",
    "import numpy as np\n",
    "import seaborn as sns\n",
    "import matplotlib.pyplot as plt\n",
    "import sqlite3\n",
    "import plotly.express as px\n",
    "\n"
   ]
  },
  {
   "cell_type": "code",
   "execution_count": 61,
   "id": "db5b7cae",
   "metadata": {},
   "outputs": [
    {
     "name": "stdout",
     "output_type": "stream",
     "text": [
      "CREATE TABLE IF NOT EXISTS \"movie_basics\" (\n",
      "\"movie_id\" TEXT,\n",
      "  \"primary_title\" TEXT,\n",
      "  \"original_title\" TEXT,\n",
      "  \"start_year\" INTEGER,\n",
      "  \"runtime_minutes\" REAL,\n",
      "  \"genres\" TEXT\n",
      ");\n",
      "CREATE TABLE IF NOT EXISTS \"directors\" (\n",
      "\"movie_id\" TEXT,\n",
      "  \"person_id\" TEXT\n",
      ");\n",
      "CREATE TABLE IF NOT EXISTS \"known_for\" (\n",
      "\"person_id\" TEXT,\n",
      "  \"movie_id\" TEXT\n",
      ");\n",
      "CREATE TABLE IF NOT EXISTS \"movie_akas\" (\n",
      "\"movie_id\" TEXT,\n",
      "  \"ordering\" INTEGER,\n",
      "  \"title\" TEXT,\n",
      "  \"region\" TEXT,\n",
      "  \"language\" TEXT,\n",
      "  \"types\" TEXT,\n",
      "  \"attributes\" TEXT,\n",
      "  \"is_original_title\" REAL\n",
      ");\n",
      "CREATE TABLE IF NOT EXISTS \"movie_ratings\" (\n",
      "\"movie_id\" TEXT,\n",
      "  \"averagerating\" REAL,\n",
      "  \"numvotes\" INTEGER\n",
      ");\n",
      "CREATE TABLE IF NOT EXISTS \"persons\" (\n",
      "\"person_id\" TEXT,\n",
      "  \"primary_name\" TEXT,\n",
      "  \"birth_year\" REAL,\n",
      "  \"death_year\" REAL,\n",
      "  \"primary_profession\" TEXT\n",
      ");\n",
      "CREATE TABLE IF NOT EXISTS \"principals\" (\n",
      "\"movie_id\" TEXT,\n",
      "  \"ordering\" INTEGER,\n",
      "  \"person_id\" TEXT,\n",
      "  \"category\" TEXT,\n",
      "  \"job\" TEXT,\n",
      "  \"characters\" TEXT\n",
      ");\n",
      "CREATE TABLE IF NOT EXISTS \"writers\" (\n",
      "\"movie_id\" TEXT,\n",
      "  \"person_id\" TEXT\n",
      ");\n"
     ]
    }
   ],
   "source": [
    "%%bash \n",
    "sqlite3 zippedData/im.db\n",
    ".schema"
   ]
  },
  {
   "cell_type": "code",
   "execution_count": 62,
   "id": "02a0a505",
   "metadata": {},
   "outputs": [],
   "source": [
    "movie_basics_query = '''\n",
    "Select *\n",
    "FROM movie_basics;'''\n",
    "\n",
    "movie_ratings_query = '''\n",
    "Select * \n",
    "FROM movie_ratings;'''\n",
    "\n",
    "movie_director_query = '''\n",
    "Select * \n",
    "FROM directors;'''\n",
    "\n",
    "movie_known_for_query = '''\n",
    "Select * \n",
    "FROM known_for;'''\n",
    "\n",
    "movie_persons_query = '''\n",
    "Select * \n",
    "FROM persons;'''\n",
    "\n",
    "movie_principals_query = '''\n",
    "Select * \n",
    "FROM principals;'''\n",
    "\n",
    "\n",
    "movie_writers_query = '''\n",
    "Select * \n",
    "FROM writers;'''\n",
    "\n",
    "movie_movie_akas_query = '''\n",
    "Select * \n",
    "FROM movie_akas;'''\n",
    "\n",
    "\n",
    "con = sqlite3.connect('zippedData/im.db')\n",
    "\n",
    "\n",
    "movie_basics_df = pd.read_sql(movie_basics_query, con)\n",
    "movie_ratings_df = pd.read_sql(movie_ratings_query, con)\n",
    "movie_director_df = pd.read_sql(movie_director_query, con)\n",
    "movie_known_for_df = pd.read_sql(movie_known_for_query, con)\n",
    "movie_persons_df = pd.read_sql(movie_persons_query, con)\n",
    "movie_principals_df = pd.read_sql(movie_principals_query, con)\n",
    "movie_writers_df = pd.read_sql(movie_writers_query, con)\n",
    "movie_movie_akas_df = pd.read_sql(movie_movie_akas_query, con)"
   ]
  },
  {
   "cell_type": "code",
   "execution_count": 63,
   "id": "c03253af",
   "metadata": {},
   "outputs": [],
   "source": [
    "# read various data from csv files\n",
    "df1 =  pd.read_csv('/Users/patrickpriestley/Downloads/Flatiron/dsc-phase-1-project-v2-4/zippedData/bom.movie_gross.csv')\n"
   ]
  },
  {
   "cell_type": "code",
   "execution_count": 64,
   "id": "43ab0bfa",
   "metadata": {},
   "outputs": [],
   "source": [
    "dfbudg = pd.read_csv('/Users/patrickpriestley/Downloads/tn.movie_budgets.csv')\n"
   ]
  },
  {
   "cell_type": "code",
   "execution_count": 65,
   "id": "b11b0db7",
   "metadata": {},
   "outputs": [],
   "source": [
    "# merge datafraims\n",
    "\n",
    "fulldf = pd.merge(movie_ratings_df, movie_basics_df, left_on='movie_id', right_on='movie_id')\n"
   ]
  },
  {
   "cell_type": "code",
   "execution_count": 66,
   "id": "770a0707",
   "metadata": {},
   "outputs": [],
   "source": [
    "# merge datafraims\n",
    "fulldf = pd.merge(movie_director_df, fulldf, left_on='movie_id', right_on='movie_id')\n"
   ]
  },
  {
   "cell_type": "code",
   "execution_count": 67,
   "id": "414fdb66",
   "metadata": {},
   "outputs": [],
   "source": [
    "# merge datafraims\n",
    "fulldf = pd.merge(fulldf, df1, left_on='primary_title', right_on='title')\n"
   ]
  },
  {
   "cell_type": "code",
   "execution_count": 68,
   "id": "2d160bc6",
   "metadata": {},
   "outputs": [],
   "source": [
    "# drop duplicit rows based on df column\n",
    "fulldf = fulldf.drop_duplicates(subset = ['primary_title'])\n"
   ]
  },
  {
   "cell_type": "code",
   "execution_count": 69,
   "id": "3b22f38c",
   "metadata": {},
   "outputs": [],
   "source": [
    "# merge data fraims based on with matching values\n",
    "fulldf = pd.merge(dfbudg, fulldf, left_on='movie', right_on='primary_title')\n"
   ]
  },
  {
   "cell_type": "code",
   "execution_count": 70,
   "id": "9beb9ee4",
   "metadata": {},
   "outputs": [],
   "source": [
    "# clean columns relating to budget and profit and convert to interger\n",
    "\n",
    "fulldf['production_budget'] = fulldf['production_budget'].apply(lambda x: x.replace ('$',\"\"))\n",
    "fulldf['production_budget'] = fulldf['production_budget'].apply(lambda x: x.replace (',',\"\"))\n",
    "fulldf['production_budget'] = fulldf['production_budget'].apply(lambda x: int(x))\n",
    "\n",
    "fulldf['domestic_gross_x'] = fulldf['domestic_gross_x'].apply(lambda x: x.replace ('$',\"\"))\n",
    "fulldf['domestic_gross_x'] = fulldf['domestic_gross_x'].apply(lambda x: x.replace (',',\"\"))\n",
    "fulldf['domestic_gross_x'] = fulldf['domestic_gross_x'].apply(lambda x: int(x))\n",
    "\n",
    "\n",
    "fulldf['worldwide_gross'] = fulldf['worldwide_gross'].apply(lambda x: x.replace ('$',\"\"))\n",
    "fulldf['worldwide_gross'] = fulldf['worldwide_gross'].apply(lambda x: x.replace (',',\"\"))\n",
    "fulldf['worldwide_gross'] = fulldf['worldwide_gross'].apply(lambda x: int(x))\n",
    "\n",
    "\n"
   ]
  },
  {
   "cell_type": "code",
   "execution_count": 71,
   "id": "ad5d22be",
   "metadata": {},
   "outputs": [],
   "source": [
    "\n",
    "\n",
    "\n",
    "\n",
    "\n",
    "# removie rows in genres column whith null values\n",
    "fulldf.dropna(subset = ['genres'], inplace = True)\n",
    "\n"
   ]
  },
  {
   "cell_type": "code",
   "execution_count": 72,
   "id": "af92aa62",
   "metadata": {},
   "outputs": [],
   "source": [
    "pp_genre_ls = [genre for genre in fulldf['genres']]\n",
    "\n"
   ]
  },
  {
   "cell_type": "code",
   "execution_count": 73,
   "id": "203c1447",
   "metadata": {},
   "outputs": [],
   "source": [
    "pp_genre_dt = {'Drama':0, \n",
    "              'Documentary': 0, \n",
    "              'Comedy': 0, \n",
    "              'Horror':0, \n",
    "              'Romance':0,\n",
    "              'Thriller':0,\n",
    "              'Action':0,\n",
    "              'Biography':0,\n",
    "              'Music':0,\n",
    "              'Crime':0}"
   ]
  },
  {
   "cell_type": "code",
   "execution_count": 74,
   "id": "1acc2953",
   "metadata": {},
   "outputs": [],
   "source": [
    "for genre in pp_genre_ls:\n",
    "    if 'Drama' in genre:\n",
    "        count_drama = genre.count('Drama')\n",
    "        pp_genre_dt['Drama'] += count_drama\n",
    "    elif 'Documentary' in genre:\n",
    "        count_doc = genre.count('Documentary')\n",
    "        pp_genre_dt['Documentary'] += count_doc\n",
    "    elif 'Comedy' in genre:\n",
    "        count_com = genre.count('Comedy')\n",
    "        pp_genre_dt['Comedy'] += count_com\n",
    "    elif 'Horror' in genre:\n",
    "        count_hor = genre.count('Horror')\n",
    "        pp_genre_dt['Horror'] += count_hor\n",
    "    elif 'Romance' in genre:\n",
    "        count_rom = genre.count('Romance')\n",
    "        pp_genre_dt['Romance'] += count_rom\n",
    "    elif 'Thriller' in genre:\n",
    "        count_thril = genre.count('Thriller')\n",
    "        pp_genre_dt['Thriller'] += count_thril\n",
    "    elif 'Action' in genre:\n",
    "        count_act = genre.count('Action')\n",
    "        pp_genre_dt['Action'] += count_act\n",
    "    elif 'Biography' in genre:\n",
    "        count_bio = genre.count('Biography')\n",
    "        pp_genre_dt['Biography'] += count_bio\n",
    "    elif 'Music' in genre:\n",
    "        count_music = genre.count('Music')\n",
    "        pp_genre_dt['Music'] += count_music\n",
    "    elif 'Crime' in genre:\n",
    "        count_crime = genre.count('Crime')\n",
    "        pp_genre_dt['Crime'] += count_crime"
   ]
  },
  {
   "cell_type": "code",
   "execution_count": 75,
   "id": "5ddbbc85",
   "metadata": {},
   "outputs": [],
   "source": [
    "# catorgize genres in descending order\n",
    "sopp_genres = sorted(pp_genre_dt.items(), key=lambda x:x[1], reverse = True)\n",
    "\n",
    "# reclassify sopp_genres as a dictionary\n",
    "sopp_genres = dict(sopp_genres)"
   ]
  },
  {
   "cell_type": "code",
   "execution_count": 76,
   "id": "cf240e24",
   "metadata": {},
   "outputs": [],
   "source": [
    "ppdf = fulldf.drop(['movie_id','title','year','start_year'], axis = 1)"
   ]
  },
  {
   "cell_type": "code",
   "execution_count": 77,
   "id": "021d74e5",
   "metadata": {},
   "outputs": [],
   "source": [
    "gpp_profits = {'Drama':0, \n",
    "              'Documentary': 0, \n",
    "              'Comedy': 0, \n",
    "              'Horror':0, \n",
    "              'Romance':0,\n",
    "              'Thriller':0,\n",
    "              'Action':0,\n",
    "              'Biography':0,\n",
    "              'Music':0,\n",
    "              'Crime':0}"
   ]
  },
  {
   "cell_type": "code",
   "execution_count": 78,
   "id": "c37d7c6d",
   "metadata": {},
   "outputs": [],
   "source": [
    "drama_pp = ppdf.loc[ppdf['genres'].str.contains(\"Drama\") == True]['worldwide_gross'].mean()\n",
    "doc_pp = ppdf.loc[ppdf['genres'].str.contains(\"Documentary\") == True]['worldwide_gross'].mean()\n",
    "comedy_pp = ppdf.loc[ppdf['genres'].str.contains(\"Comedy\") == True]['worldwide_gross'].mean()\n",
    "horror_pp = ppdf.loc[ppdf['genres'].str.contains(\"Horror\") == True]['worldwide_gross'].mean()\n",
    "thriller_pp = ppdf.loc[ppdf['genres'].str.contains(\"Thriller\") == True]['worldwide_gross'].mean()\n",
    "action_pp = ppdf.loc[ppdf['genres'].str.contains(\"Action\") == True]['worldwide_gross'].mean()\n",
    "romance_pp = ppdf.loc[ppdf['genres'].str.contains(\"Romance\") == True]['worldwide_gross'].mean()\n",
    "music_pp = ppdf.loc[ppdf['genres'].str.contains(\"Music\") == True]['worldwide_gross'].mean()\n",
    "crime_pp = ppdf.loc[ppdf['genres'].str.contains(\"Crime\") == True]['worldwide_gross'].mean()\n",
    "bio_pp = ppdf.loc[ppdf['genres'].str.contains(\"Biography\") == True]['worldwide_gross'].mean()"
   ]
  },
  {
   "cell_type": "code",
   "execution_count": 79,
   "id": "a62c8c93",
   "metadata": {},
   "outputs": [],
   "source": [
    "gpp_profits = {'Drama':drama_pp, \n",
    "              'Documentary': doc_pp, \n",
    "              'Comedy': comedy_pp, \n",
    "              'Horror': horror_pp, \n",
    "              'Romance': romance_pp,\n",
    "              'Thriller': thriller_pp,\n",
    "              'Action': action_pp,\n",
    "              'Biography': bio_pp,\n",
    "              'Music': music_pp,\n",
    "              'Crime': crime_pp}"
   ]
  },
  {
   "cell_type": "code",
   "execution_count": 80,
   "id": "e1635f77",
   "metadata": {},
   "outputs": [],
   "source": [
    "sort_ppp = dict(sorted(gpp_profits.items(), key=lambda x:x[1], reverse = True))"
   ]
  },
  {
   "cell_type": "code",
   "execution_count": 81,
   "id": "2752825e",
   "metadata": {},
   "outputs": [
    {
     "data": {
      "image/png": "[encoded data removed]",
      "text/plain": [
       "<Figure size 864x432 with 1 Axes>"
      ]
     },
     "metadata": {
      "needs_background": "light"
     },
     "output_type": "display_data"
    }
   ],
   "source": [
    "fig, ax = plt.subplots(figsize=(12, 6))\n",
    "\n",
    "# plot stacked bar graph below\n",
    "# bar graph 1 for Worldwide profits\n",
    "ax.bar(sort_ppp.keys(),\n",
    "       sort_ppp.values(),\n",
    "       edgecolor = \"red\", \n",
    "       color = \"lime\")\n",
    "\n",
    "# set labels\n",
    "ax.set_title(\"World Wide profits by genre\", weight = \"bold\")\n",
    "ax.set_ylabel(\"Profit\", weight = \"bold\")\n",
    "ax.set_xlabel(\"Top genres\", weight = \"bold\")\n",
    "\n",
    "# set gridline visibility\n",
    "ax.set_axisbelow(True)\n",
    "ax.yaxis.grid(True, color='#EEEEEE')\n",
    "ax.xaxis.grid(False)\n",
    "\n",
    "# rotate xticks labels\n",
    "plt.xticks(ha='center')\n",
    "# Remove the ticks\n",
    "ax.tick_params(bottom=False)\n",
    "\n",
    "# removes top and right side axis\n",
    "plt.gca().spines['top'].set_visible(False)\n",
    "plt.gca().spines['right'].set_visible(False)\n",
    "\n",
    "plt.tight_layout()\n",
    "\n",
    "plt.show()\n",
    "\n"
   ]
  },
  {
   "cell_type": "code",
   "execution_count": 82,
   "id": "35f99f24",
   "metadata": {},
   "outputs": [],
   "source": [
    "top20recentmovies = fulldf[fulldf['start_year'] > 2002].sort_values(by = 'worldwide_gross', ascending = False).head(20)"
   ]
  },
  {
   "cell_type": "code",
   "execution_count": 84,
   "id": "ea57cf93",
   "metadata": {},
   "outputs": [
    {
     "data": {
      "image/png": "[encoded data removed]",
      "text/plain": [
       "<Figure size 648x432 with 1 Axes>"
      ]
     },
     "metadata": {
      "needs_background": "light"
     },
     "output_type": "display_data"
    }
   ],
   "source": [
    "\n",
    "fig,ax = plt.subplots(figsize=(9, 6))\n",
    " \n",
    "# plotting columns\n",
    "fig = sns.barplot(x=top20recentmovies[\"worldwide_gross\"], y=top20recentmovies[\"movie\"], color='g')\n",
    "fig = sns.barplot(x=top20recentmovies[\"domestic_gross_x\"], y=top20recentmovies[\"movie\"], color='lime')\n",
    "ax.xaxis.offsetText.set_visible(False)\n",
    "plt.xlabel(\"gross in billions\")\n",
    "plt.ylabel(\"movie\")\n",
    "\n",
    "plt.xticks(rotation=45)\n",
    "\n",
    "plt.show()"
   ]
  },
  {
   "cell_type": "code",
   "execution_count": 85,
   "id": "9ffbd16a",
   "metadata": {},
   "outputs": [],
   "source": [
    "top_20 = fulldf.sort_values(by = ['worldwide_gross'], ascending = False).head(20)\n",
    "\n",
    "# only include relevant column information\n",
    "top_20 = top_20[['movie',\n",
    "                 'release_date',\n",
    "                 'domestic_gross_x', \n",
    "                 'worldwide_gross', \n",
    "                 'genres', \n",
    "                 'averagerating',\n",
    "                 'studio']]"
   ]
  },
  {
   "cell_type": "code",
   "execution_count": 86,
   "id": "8a941bd9",
   "metadata": {},
   "outputs": [
    {
     "data": {
      "application/vnd.plotly.v1+json": {
       "config": {
        "plotlyServerURL": "https://plot.ly"
       },
       "data": [
        {
         "alignmentgroup": "True",
         "hovertemplate": "studio=BV<br>Worldwide Profit=%{x}<br>Movie Name=%{y}<extra></extra>",
         "legendgroup": "BV",
         "marker": {
          "color": "#636efa",
          "pattern": {
           "shape": ""
          }
         },
         "name": "BV",
         "offsetgroup": "BV",
         "orientation": "h",
         "showlegend": true,
         "textposition": "auto",
         "type": "bar",
         "x": [
          2048134200,
          1403013963,
          1348258224,
          1272469910,
          1242520711,
          1215392272,
          1140069413,
          1068879522,
          1049102856,
          1045663875
         ],
         "xaxis": "x",
         "y": [
          "Avengers: Infinity War",
          "Avengers: Age of Ultron",
          "Black Panther",
          "Frozen",
          "Incredibles 2",
          "Iron Man 3",
          "Captain America: Civil War",
          "Toy Story 3",
          "Rogue One: A Star Wars Story",
          "Pirates of the Caribbean: On Stranger Tides"
         ],
         "yaxis": "y"
        },
        {
         "alignmentgroup": "True",
         "hovertemplate": "studio=Uni.<br>Worldwide Profit=%{x}<br>Movie Name=%{y}<extra></extra>",
         "legendgroup": "Uni.",
         "marker": {
          "color": "#EF553B",
          "pattern": {
           "shape": ""
          }
         },
         "name": "Uni.",
         "offsetgroup": "Uni.",
         "orientation": "h",
         "showlegend": true,
         "textposition": "auto",
         "type": "bar",
         "x": [
          1648854864,
          1518722794,
          1305772799,
          1234846267,
          1160336173
         ],
         "xaxis": "x",
         "y": [
          "Jurassic World",
          "Furious 7",
          "Jurassic World: Fallen Kingdom",
          "The Fate of the Furious",
          "Minions"
         ],
         "yaxis": "y"
        },
        {
         "alignmentgroup": "True",
         "hovertemplate": "studio=WB<br>Worldwide Profit=%{x}<br>Movie Name=%{y}<extra></extra>",
         "legendgroup": "WB",
         "marker": {
          "color": "#00cc96",
          "pattern": {
           "shape": ""
          }
         },
         "name": "WB",
         "offsetgroup": "WB",
         "orientation": "h",
         "showlegend": true,
         "textposition": "auto",
         "type": "bar",
         "x": [
          1146894640,
          1084439099
         ],
         "xaxis": "x",
         "y": [
          "Aquaman",
          "The Dark Knight Rises"
         ],
         "yaxis": "y"
        },
        {
         "alignmentgroup": "True",
         "hovertemplate": "studio=P/DW<br>Worldwide Profit=%{x}<br>Movie Name=%{y}<extra></extra>",
         "legendgroup": "P/DW",
         "marker": {
          "color": "#ab63fa",
          "pattern": {
           "shape": ""
          }
         },
         "name": "P/DW",
         "offsetgroup": "P/DW",
         "orientation": "h",
         "showlegend": true,
         "textposition": "auto",
         "type": "bar",
         "x": [
          1123790543
         ],
         "xaxis": "x",
         "y": [
          "Transformers: Dark of the Moon"
         ],
         "yaxis": "y"
        },
        {
         "alignmentgroup": "True",
         "hovertemplate": "studio=Sony<br>Worldwide Profit=%{x}<br>Movie Name=%{y}<extra></extra>",
         "legendgroup": "Sony",
         "marker": {
          "color": "#FFA15A",
          "pattern": {
           "shape": ""
          }
         },
         "name": "Sony",
         "offsetgroup": "Sony",
         "orientation": "h",
         "showlegend": true,
         "textposition": "auto",
         "type": "bar",
         "x": [
          1110526981
         ],
         "xaxis": "x",
         "y": [
          "Skyfall"
         ],
         "yaxis": "y"
        },
        {
         "alignmentgroup": "True",
         "hovertemplate": "studio=Par.<br>Worldwide Profit=%{x}<br>Movie Name=%{y}<extra></extra>",
         "legendgroup": "Par.",
         "marker": {
          "color": "#19d3f3",
          "pattern": {
           "shape": ""
          }
         },
         "name": "Par.",
         "offsetgroup": "Par.",
         "orientation": "h",
         "showlegend": true,
         "textposition": "auto",
         "type": "bar",
         "x": [
          1104039076
         ],
         "xaxis": "x",
         "y": [
          "Transformers: Age of Extinction"
         ],
         "yaxis": "y"
        }
       ],
       "layout": {
        "barmode": "relative",
        "legend": {
         "title": {
          "text": "studio"
         },
         "tracegroupgap": 0
        },
        "template": {
         "data": {
          "bar": [
           {
            "error_x": {
             "color": "#2a3f5f"
            },
            "error_y": {
             "color": "#2a3f5f"
            },
            "marker": {
             "line": {
              "color": "#E5ECF6",
              "width": 0.5
             },
             "pattern": {
              "fillmode": "overlay",
              "size": 10,
              "solidity": 0.2
             }
            },
            "type": "bar"
           }
          ],
          "barpolar": [
           {
            "marker": {
             "line": {
              "color": "#E5ECF6",
              "width": 0.5
             },
             "pattern": {
              "fillmode": "overlay",
              "size": 10,
              "solidity": 0.2
             }
            },
            "type": "barpolar"
           }
          ],
          "carpet": [
           {
            "aaxis": {
             "endlinecolor": "#2a3f5f",
             "gridcolor": "white",
             "linecolor": "white",
             "minorgridcolor": "white",
             "startlinecolor": "#2a3f5f"
            },
            "baxis": {
             "endlinecolor": "#2a3f5f",
             "gridcolor": "white",
             "linecolor": "white",
             "minorgridcolor": "white",
             "startlinecolor": "#2a3f5f"
            },
            "type": "carpet"
           }
          ],
          "choropleth": [
           {
            "colorbar": {
             "outlinewidth": 0,
             "ticks": ""
            },
            "type": "choropleth"
           }
          ],
          "contour": [
           {
            "colorbar": {
             "outlinewidth": 0,
             "ticks": ""
            },
            "colorscale": [
             [
              0,
              "#0d0887"
             ],
             [
              0.1111111111111111,
              "#46039f"
             ],
             [
              0.2222222222222222,
              "#7201a8"
             ],
             [
              0.3333333333333333,
              "#9c179e"
             ],
             [
              0.4444444444444444,
              "#bd3786"
             ],
             [
              0.5555555555555556,
              "#d8576b"
             ],
             [
              0.6666666666666666,
              "#ed7953"
             ],
             [
              0.7777777777777778,
              "#fb9f3a"
             ],
             [
              0.8888888888888888,
              "#fdca26"
             ],
             [
              1,
              "#f0f921"
             ]
            ],
            "type": "contour"
           }
          ],
          "contourcarpet": [
           {
            "colorbar": {
             "outlinewidth": 0,
             "ticks": ""
            },
            "type": "contourcarpet"
           }
          ],
          "heatmap": [
           {
            "colorbar": {
             "outlinewidth": 0,
             "ticks": ""
            },
            "colorscale": [
             [
              0,
              "#0d0887"
             ],
             [
              0.1111111111111111,
              "#46039f"
             ],
             [
              0.2222222222222222,
              "#7201a8"
             ],
             [
              0.3333333333333333,
              "#9c179e"
             ],
             [
              0.4444444444444444,
              "#bd3786"
             ],
             [
              0.5555555555555556,
              "#d8576b"
             ],
             [
              0.6666666666666666,
              "#ed7953"
             ],
             [
              0.7777777777777778,
              "#fb9f3a"
             ],
             [
              0.8888888888888888,
              "#fdca26"
             ],
             [
              1,
              "#f0f921"
             ]
            ],
            "type": "heatmap"
           }
          ],
          "heatmapgl": [
           {
            "colorbar": {
             "outlinewidth": 0,
             "ticks": ""
            },
            "colorscale": [
             [
              0,
              "#0d0887"
             ],
             [
              0.1111111111111111,
              "#46039f"
             ],
             [
              0.2222222222222222,
              "#7201a8"
             ],
             [
              0.3333333333333333,
              "#9c179e"
             ],
             [
              0.4444444444444444,
              "#bd3786"
             ],
             [
              0.5555555555555556,
              "#d8576b"
             ],
             [
              0.6666666666666666,
              "#ed7953"
             ],
             [
              0.7777777777777778,
              "#fb9f3a"
             ],
             [
              0.8888888888888888,
              "#fdca26"
             ],
             [
              1,
              "#f0f921"
             ]
            ],
            "type": "heatmapgl"
           }
          ],
          "histogram": [
           {
            "marker": {
             "pattern": {
              "fillmode": "overlay",
              "size": 10,
              "solidity": 0.2
             }
            },
            "type": "histogram"
           }
          ],
          "histogram2d": [
           {
            "colorbar": {
             "outlinewidth": 0,
             "ticks": ""
            },
            "colorscale": [
             [
              0,
              "#0d0887"
             ],
             [
              0.1111111111111111,
              "#46039f"
             ],
             [
              0.2222222222222222,
              "#7201a8"
             ],
             [
              0.3333333333333333,
              "#9c179e"
             ],
             [
              0.4444444444444444,
              "#bd3786"
             ],
             [
              0.5555555555555556,
              "#d8576b"
             ],
             [
              0.6666666666666666,
              "#ed7953"
             ],
             [
              0.7777777777777778,
              "#fb9f3a"
             ],
             [
              0.8888888888888888,
              "#fdca26"
             ],
             [
              1,
              "#f0f921"
             ]
            ],
            "type": "histogram2d"
           }
          ],
          "histogram2dcontour": [
           {
            "colorbar": {
             "outlinewidth": 0,
             "ticks": ""
            },
            "colorscale": [
             [
              0,
              "#0d0887"
             ],
             [
              0.1111111111111111,
              "#46039f"
             ],
             [
              0.2222222222222222,
              "#7201a8"
             ],
             [
              0.3333333333333333,
              "#9c179e"
             ],
             [
              0.4444444444444444,
              "#bd3786"
             ],
             [
              0.5555555555555556,
              "#d8576b"
             ],
             [
              0.6666666666666666,
              "#ed7953"
             ],
             [
              0.7777777777777778,
              "#fb9f3a"
             ],
             [
              0.8888888888888888,
              "#fdca26"
             ],
             [
              1,
              "#f0f921"
             ]
            ],
            "type": "histogram2dcontour"
           }
          ],
          "mesh3d": [
           {
            "colorbar": {
             "outlinewidth": 0,
             "ticks": ""
            },
            "type": "mesh3d"
           }
          ],
          "parcoords": [
           {
            "line": {
             "colorbar": {
              "outlinewidth": 0,
              "ticks": ""
             }
            },
            "type": "parcoords"
           }
          ],
          "pie": [
           {
            "automargin": true,
            "type": "pie"
           }
          ],
          "scatter": [
           {
            "marker": {
             "colorbar": {
              "outlinewidth": 0,
              "ticks": ""
             }
            },
            "type": "scatter"
           }
          ],
          "scatter3d": [
           {
            "line": {
             "colorbar": {
              "outlinewidth": 0,
              "ticks": ""
             }
            },
            "marker": {
             "colorbar": {
              "outlinewidth": 0,
              "ticks": ""
             }
            },
            "type": "scatter3d"
           }
          ],
          "scattercarpet": [
           {
            "marker": {
             "colorbar": {
              "outlinewidth": 0,
              "ticks": ""
             }
            },
            "type": "scattercarpet"
           }
          ],
          "scattergeo": [
           {
            "marker": {
             "colorbar": {
              "outlinewidth": 0,
              "ticks": ""
             }
            },
            "type": "scattergeo"
           }
          ],
          "scattergl": [
           {
            "marker": {
             "colorbar": {
              "outlinewidth": 0,
              "ticks": ""
             }
            },
            "type": "scattergl"
           }
          ],
          "scattermapbox": [
           {
            "marker": {
             "colorbar": {
              "outlinewidth": 0,
              "ticks": ""
             }
            },
            "type": "scattermapbox"
           }
          ],
          "scatterpolar": [
           {
            "marker": {
             "colorbar": {
              "outlinewidth": 0,
              "ticks": ""
             }
            },
            "type": "scatterpolar"
           }
          ],
          "scatterpolargl": [
           {
            "marker": {
             "colorbar": {
              "outlinewidth": 0,
              "ticks": ""
             }
            },
            "type": "scatterpolargl"
           }
          ],
          "scatterternary": [
           {
            "marker": {
             "colorbar": {
              "outlinewidth": 0,
              "ticks": ""
             }
            },
            "type": "scatterternary"
           }
          ],
          "surface": [
           {
            "colorbar": {
             "outlinewidth": 0,
             "ticks": ""
            },
            "colorscale": [
             [
              0,
              "#0d0887"
             ],
             [
              0.1111111111111111,
              "#46039f"
             ],
             [
              0.2222222222222222,
              "#7201a8"
             ],
             [
              0.3333333333333333,
              "#9c179e"
             ],
             [
              0.4444444444444444,
              "#bd3786"
             ],
             [
              0.5555555555555556,
              "#d8576b"
             ],
             [
              0.6666666666666666,
              "#ed7953"
             ],
             [
              0.7777777777777778,
              "#fb9f3a"
             ],
             [
              0.8888888888888888,
              "#fdca26"
             ],
             [
              1,
              "#f0f921"
             ]
            ],
            "type": "surface"
           }
          ],
          "table": [
           {
            "cells": {
             "fill": {
              "color": "#EBF0F8"
             },
             "line": {
              "color": "white"
             }
            },
            "header": {
             "fill": {
              "color": "#C8D4E3"
             },
             "line": {
              "color": "white"
             }
            },
            "type": "table"
           }
          ]
         },
         "layout": {
          "annotationdefaults": {
           "arrowcolor": "#2a3f5f",
           "arrowhead": 0,
           "arrowwidth": 1
          },
          "autotypenumbers": "strict",
          "coloraxis": {
           "colorbar": {
            "outlinewidth": 0,
            "ticks": ""
           }
          },
          "colorscale": {
           "diverging": [
            [
             0,
             "#8e0152"
            ],
            [
             0.1,
             "#c51b7d"
            ],
            [
             0.2,
             "#de77ae"
            ],
            [
             0.3,
             "#f1b6da"
            ],
            [
             0.4,
             "#fde0ef"
            ],
            [
             0.5,
             "#f7f7f7"
            ],
            [
             0.6,
             "#e6f5d0"
            ],
            [
             0.7,
             "#b8e186"
            ],
            [
             0.8,
             "#7fbc41"
            ],
            [
             0.9,
             "#4d9221"
            ],
            [
             1,
             "#276419"
            ]
           ],
           "sequential": [
            [
             0,
             "#0d0887"
            ],
            [
             0.1111111111111111,
             "#46039f"
            ],
            [
             0.2222222222222222,
             "#7201a8"
            ],
            [
             0.3333333333333333,
             "#9c179e"
            ],
            [
             0.4444444444444444,
             "#bd3786"
            ],
            [
             0.5555555555555556,
             "#d8576b"
            ],
            [
             0.6666666666666666,
             "#ed7953"
            ],
            [
             0.7777777777777778,
             "#fb9f3a"
            ],
            [
             0.8888888888888888,
             "#fdca26"
            ],
            [
             1,
             "#f0f921"
            ]
           ],
           "sequentialminus": [
            [
             0,
             "#0d0887"
            ],
            [
             0.1111111111111111,
             "#46039f"
            ],
            [
             0.2222222222222222,
             "#7201a8"
            ],
            [
             0.3333333333333333,
             "#9c179e"
            ],
            [
             0.4444444444444444,
             "#bd3786"
            ],
            [
             0.5555555555555556,
             "#d8576b"
            ],
            [
             0.6666666666666666,
             "#ed7953"
            ],
            [
             0.7777777777777778,
             "#fb9f3a"
            ],
            [
             0.8888888888888888,
             "#fdca26"
            ],
            [
             1,
             "#f0f921"
            ]
           ]
          },
          "colorway": [
           "#636efa",
           "#EF553B",
           "#00cc96",
           "#ab63fa",
           "#FFA15A",
           "#19d3f3",
           "#FF6692",
           "#B6E880",
           "#FF97FF",
           "#FECB52"
          ],
          "font": {
           "color": "#2a3f5f"
          },
          "geo": {
           "bgcolor": "white",
           "lakecolor": "white",
           "landcolor": "#E5ECF6",
           "showlakes": true,
           "showland": true,
           "subunitcolor": "white"
          },
          "hoverlabel": {
           "align": "left"
          },
          "hovermode": "closest",
          "mapbox": {
           "style": "light"
          },
          "paper_bgcolor": "white",
          "plot_bgcolor": "#E5ECF6",
          "polar": {
           "angularaxis": {
            "gridcolor": "white",
            "linecolor": "white",
            "ticks": ""
           },
           "bgcolor": "#E5ECF6",
           "radialaxis": {
            "gridcolor": "white",
            "linecolor": "white",
            "ticks": ""
           }
          },
          "scene": {
           "xaxis": {
            "backgroundcolor": "#E5ECF6",
            "gridcolor": "white",
            "gridwidth": 2,
            "linecolor": "white",
            "showbackground": true,
            "ticks": "",
            "zerolinecolor": "white"
           },
           "yaxis": {
            "backgroundcolor": "#E5ECF6",
            "gridcolor": "white",
            "gridwidth": 2,
            "linecolor": "white",
            "showbackground": true,
            "ticks": "",
            "zerolinecolor": "white"
           },
           "zaxis": {
            "backgroundcolor": "#E5ECF6",
            "gridcolor": "white",
            "gridwidth": 2,
            "linecolor": "white",
            "showbackground": true,
            "ticks": "",
            "zerolinecolor": "white"
           }
          },
          "shapedefaults": {
           "line": {
            "color": "#2a3f5f"
           }
          },
          "ternary": {
           "aaxis": {
            "gridcolor": "white",
            "linecolor": "white",
            "ticks": ""
           },
           "baxis": {
            "gridcolor": "white",
            "linecolor": "white",
            "ticks": ""
           },
           "bgcolor": "#E5ECF6",
           "caxis": {
            "gridcolor": "white",
            "linecolor": "white",
            "ticks": ""
           }
          },
          "title": {
           "x": 0.05
          },
          "xaxis": {
           "automargin": true,
           "gridcolor": "white",
           "linecolor": "white",
           "ticks": "",
           "title": {
            "standoff": 15
           },
           "zerolinecolor": "white",
           "zerolinewidth": 2
          },
          "yaxis": {
           "automargin": true,
           "gridcolor": "white",
           "linecolor": "white",
           "ticks": "",
           "title": {
            "standoff": 15
           },
           "zerolinecolor": "white",
           "zerolinewidth": 2
          }
         }
        },
        "title": {
         "text": "Top 20 Movies Based On Profit",
         "x": 0.5,
         "xanchor": "center",
         "y": 0.9,
         "yanchor": "top"
        },
        "xaxis": {
         "anchor": "y",
         "domain": [
          0,
          1
         ],
         "title": {
          "text": "Worldwide Profit"
         }
        },
        "yaxis": {
         "anchor": "x",
         "domain": [
          0,
          1
         ],
         "title": {
          "text": "Movie Name"
         }
        }
       }
      },
      "text/html": [
       "<div>                            <div id=\"761adf22-dc99-4654-b937-eaffededfa00\" class=\"plotly-graph-div\" style=\"height:525px; width:100%;\"></div>            <script type=\"text/javascript\">                require([\"plotly\"], function(Plotly) {                    window.PLOTLYENV=window.PLOTLYENV || {};                                    if (document.getElementById(\"761adf22-dc99-4654-b937-eaffededfa00\")) {                    Plotly.newPlot(                        \"761adf22-dc99-4654-b937-eaffededfa00\",                        [{\"alignmentgroup\":\"True\",\"hovertemplate\":\"studio=BV<br>Worldwide Profit=%{x}<br>Movie Name=%{y}<extra></extra>\",\"legendgroup\":\"BV\",\"marker\":{\"color\":\"#636efa\",\"pattern\":{\"shape\":\"\"}},\"name\":\"BV\",\"offsetgroup\":\"BV\",\"orientation\":\"h\",\"showlegend\":true,\"textposition\":\"auto\",\"x\":[2048134200,1403013963,1348258224,1272469910,1242520711,1215392272,1140069413,1068879522,1049102856,1045663875],\"xaxis\":\"x\",\"y\":[\"Avengers: Infinity War\",\"Avengers: Age of Ultron\",\"Black Panther\",\"Frozen\",\"Incredibles 2\",\"Iron Man 3\",\"Captain America: Civil War\",\"Toy Story 3\",\"Rogue One: A Star Wars Story\",\"Pirates of the Caribbean: On Stranger Tides\"],\"yaxis\":\"y\",\"type\":\"bar\"},{\"alignmentgroup\":\"True\",\"hovertemplate\":\"studio=Uni.<br>Worldwide Profit=%{x}<br>Movie Name=%{y}<extra></extra>\",\"legendgroup\":\"Uni.\",\"marker\":{\"color\":\"#EF553B\",\"pattern\":{\"shape\":\"\"}},\"name\":\"Uni.\",\"offsetgroup\":\"Uni.\",\"orientation\":\"h\",\"showlegend\":true,\"textposition\":\"auto\",\"x\":[1648854864,1518722794,1305772799,1234846267,1160336173],\"xaxis\":\"x\",\"y\":[\"Jurassic World\",\"Furious 7\",\"Jurassic World: Fallen Kingdom\",\"The Fate of the Furious\",\"Minions\"],\"yaxis\":\"y\",\"type\":\"bar\"},{\"alignmentgroup\":\"True\",\"hovertemplate\":\"studio=WB<br>Worldwide Profit=%{x}<br>Movie Name=%{y}<extra></extra>\",\"legendgroup\":\"WB\",\"marker\":{\"color\":\"#00cc96\",\"pattern\":{\"shape\":\"\"}},\"name\":\"WB\",\"offsetgroup\":\"WB\",\"orientation\":\"h\",\"showlegend\":true,\"textposition\":\"auto\",\"x\":[1146894640,1084439099],\"xaxis\":\"x\",\"y\":[\"Aquaman\",\"The Dark Knight Rises\"],\"yaxis\":\"y\",\"type\":\"bar\"},{\"alignmentgroup\":\"True\",\"hovertemplate\":\"studio=P/DW<br>Worldwide Profit=%{x}<br>Movie Name=%{y}<extra></extra>\",\"legendgroup\":\"P/DW\",\"marker\":{\"color\":\"#ab63fa\",\"pattern\":{\"shape\":\"\"}},\"name\":\"P/DW\",\"offsetgroup\":\"P/DW\",\"orientation\":\"h\",\"showlegend\":true,\"textposition\":\"auto\",\"x\":[1123790543],\"xaxis\":\"x\",\"y\":[\"Transformers: Dark of the Moon\"],\"yaxis\":\"y\",\"type\":\"bar\"},{\"alignmentgroup\":\"True\",\"hovertemplate\":\"studio=Sony<br>Worldwide Profit=%{x}<br>Movie Name=%{y}<extra></extra>\",\"legendgroup\":\"Sony\",\"marker\":{\"color\":\"#FFA15A\",\"pattern\":{\"shape\":\"\"}},\"name\":\"Sony\",\"offsetgroup\":\"Sony\",\"orientation\":\"h\",\"showlegend\":true,\"textposition\":\"auto\",\"x\":[1110526981],\"xaxis\":\"x\",\"y\":[\"Skyfall\"],\"yaxis\":\"y\",\"type\":\"bar\"},{\"alignmentgroup\":\"True\",\"hovertemplate\":\"studio=Par.<br>Worldwide Profit=%{x}<br>Movie Name=%{y}<extra></extra>\",\"legendgroup\":\"Par.\",\"marker\":{\"color\":\"#19d3f3\",\"pattern\":{\"shape\":\"\"}},\"name\":\"Par.\",\"offsetgroup\":\"Par.\",\"orientation\":\"h\",\"showlegend\":true,\"textposition\":\"auto\",\"x\":[1104039076],\"xaxis\":\"x\",\"y\":[\"Transformers: Age of Extinction\"],\"yaxis\":\"y\",\"type\":\"bar\"}],                        {\"template\":{\"data\":{\"bar\":[{\"error_x\":{\"color\":\"#2a3f5f\"},\"error_y\":{\"color\":\"#2a3f5f\"},\"marker\":{\"line\":{\"color\":\"#E5ECF6\",\"width\":0.5},\"pattern\":{\"fillmode\":\"overlay\",\"size\":10,\"solidity\":0.2}},\"type\":\"bar\"}],\"barpolar\":[{\"marker\":{\"line\":{\"color\":\"#E5ECF6\",\"width\":0.5},\"pattern\":{\"fillmode\":\"overlay\",\"size\":10,\"solidity\":0.2}},\"type\":\"barpolar\"}],\"carpet\":[{\"aaxis\":{\"endlinecolor\":\"#2a3f5f\",\"gridcolor\":\"white\",\"linecolor\":\"white\",\"minorgridcolor\":\"white\",\"startlinecolor\":\"#2a3f5f\"},\"baxis\":{\"endlinecolor\":\"#2a3f5f\",\"gridcolor\":\"white\",\"linecolor\":\"white\",\"minorgridcolor\":\"white\",\"startlinecolor\":\"#2a3f5f\"},\"type\":\"carpet\"}],\"choropleth\":[{\"colorbar\":{\"outlinewidth\":0,\"ticks\":\"\"},\"type\":\"choropleth\"}],\"contour\":[{\"colorbar\":{\"outlinewidth\":0,\"ticks\":\"\"},\"colorscale\":[[0.0,\"#0d0887\"],[0.1111111111111111,\"#46039f\"],[0.2222222222222222,\"#7201a8\"],[0.3333333333333333,\"#9c179e\"],[0.4444444444444444,\"#bd3786\"],[0.5555555555555556,\"#d8576b\"],[0.6666666666666666,\"#ed7953\"],[0.7777777777777778,\"#fb9f3a\"],[0.8888888888888888,\"#fdca26\"],[1.0,\"#f0f921\"]],\"type\":\"contour\"}],\"contourcarpet\":[{\"colorbar\":{\"outlinewidth\":0,\"ticks\":\"\"},\"type\":\"contourcarpet\"}],\"heatmap\":[{\"colorbar\":{\"outlinewidth\":0,\"ticks\":\"\"},\"colorscale\":[[0.0,\"#0d0887\"],[0.1111111111111111,\"#46039f\"],[0.2222222222222222,\"#7201a8\"],[0.3333333333333333,\"#9c179e\"],[0.4444444444444444,\"#bd3786\"],[0.5555555555555556,\"#d8576b\"],[0.6666666666666666,\"#ed7953\"],[0.7777777777777778,\"#fb9f3a\"],[0.8888888888888888,\"#fdca26\"],[1.0,\"#f0f921\"]],\"type\":\"heatmap\"}],\"heatmapgl\":[{\"colorbar\":{\"outlinewidth\":0,\"ticks\":\"\"},\"colorscale\":[[0.0,\"#0d0887\"],[0.1111111111111111,\"#46039f\"],[0.2222222222222222,\"#7201a8\"],[0.3333333333333333,\"#9c179e\"],[0.4444444444444444,\"#bd3786\"],[0.5555555555555556,\"#d8576b\"],[0.6666666666666666,\"#ed7953\"],[0.7777777777777778,\"#fb9f3a\"],[0.8888888888888888,\"#fdca26\"],[1.0,\"#f0f921\"]],\"type\":\"heatmapgl\"}],\"histogram\":[{\"marker\":{\"pattern\":{\"fillmode\":\"overlay\",\"size\":10,\"solidity\":0.2}},\"type\":\"histogram\"}],\"histogram2d\":[{\"colorbar\":{\"outlinewidth\":0,\"ticks\":\"\"},\"colorscale\":[[0.0,\"#0d0887\"],[0.1111111111111111,\"#46039f\"],[0.2222222222222222,\"#7201a8\"],[0.3333333333333333,\"#9c179e\"],[0.4444444444444444,\"#bd3786\"],[0.5555555555555556,\"#d8576b\"],[0.6666666666666666,\"#ed7953\"],[0.7777777777777778,\"#fb9f3a\"],[0.8888888888888888,\"#fdca26\"],[1.0,\"#f0f921\"]],\"type\":\"histogram2d\"}],\"histogram2dcontour\":[{\"colorbar\":{\"outlinewidth\":0,\"ticks\":\"\"},\"colorscale\":[[0.0,\"#0d0887\"],[0.1111111111111111,\"#46039f\"],[0.2222222222222222,\"#7201a8\"],[0.3333333333333333,\"#9c179e\"],[0.4444444444444444,\"#bd3786\"],[0.5555555555555556,\"#d8576b\"],[0.6666666666666666,\"#ed7953\"],[0.7777777777777778,\"#fb9f3a\"],[0.8888888888888888,\"#fdca26\"],[1.0,\"#f0f921\"]],\"type\":\"histogram2dcontour\"}],\"mesh3d\":[{\"colorbar\":{\"outlinewidth\":0,\"ticks\":\"\"},\"type\":\"mesh3d\"}],\"parcoords\":[{\"line\":{\"colorbar\":{\"outlinewidth\":0,\"ticks\":\"\"}},\"type\":\"parcoords\"}],\"pie\":[{\"automargin\":true,\"type\":\"pie\"}],\"scatter\":[{\"marker\":{\"colorbar\":{\"outlinewidth\":0,\"ticks\":\"\"}},\"type\":\"scatter\"}],\"scatter3d\":[{\"line\":{\"colorbar\":{\"outlinewidth\":0,\"ticks\":\"\"}},\"marker\":{\"colorbar\":{\"outlinewidth\":0,\"ticks\":\"\"}},\"type\":\"scatter3d\"}],\"scattercarpet\":[{\"marker\":{\"colorbar\":{\"outlinewidth\":0,\"ticks\":\"\"}},\"type\":\"scattercarpet\"}],\"scattergeo\":[{\"marker\":{\"colorbar\":{\"outlinewidth\":0,\"ticks\":\"\"}},\"type\":\"scattergeo\"}],\"scattergl\":[{\"marker\":{\"colorbar\":{\"outlinewidth\":0,\"ticks\":\"\"}},\"type\":\"scattergl\"}],\"scattermapbox\":[{\"marker\":{\"colorbar\":{\"outlinewidth\":0,\"ticks\":\"\"}},\"type\":\"scattermapbox\"}],\"scatterpolar\":[{\"marker\":{\"colorbar\":{\"outlinewidth\":0,\"ticks\":\"\"}},\"type\":\"scatterpolar\"}],\"scatterpolargl\":[{\"marker\":{\"colorbar\":{\"outlinewidth\":0,\"ticks\":\"\"}},\"type\":\"scatterpolargl\"}],\"scatterternary\":[{\"marker\":{\"colorbar\":{\"outlinewidth\":0,\"ticks\":\"\"}},\"type\":\"scatterternary\"}],\"surface\":[{\"colorbar\":{\"outlinewidth\":0,\"ticks\":\"\"},\"colorscale\":[[0.0,\"#0d0887\"],[0.1111111111111111,\"#46039f\"],[0.2222222222222222,\"#7201a8\"],[0.3333333333333333,\"#9c179e\"],[0.4444444444444444,\"#bd3786\"],[0.5555555555555556,\"#d8576b\"],[0.6666666666666666,\"#ed7953\"],[0.7777777777777778,\"#fb9f3a\"],[0.8888888888888888,\"#fdca26\"],[1.0,\"#f0f921\"]],\"type\":\"surface\"}],\"table\":[{\"cells\":{\"fill\":{\"color\":\"#EBF0F8\"},\"line\":{\"color\":\"white\"}},\"header\":{\"fill\":{\"color\":\"#C8D4E3\"},\"line\":{\"color\":\"white\"}},\"type\":\"table\"}]},\"layout\":{\"annotationdefaults\":{\"arrowcolor\":\"#2a3f5f\",\"arrowhead\":0,\"arrowwidth\":1},\"autotypenumbers\":\"strict\",\"coloraxis\":{\"colorbar\":{\"outlinewidth\":0,\"ticks\":\"\"}},\"colorscale\":{\"diverging\":[[0,\"#8e0152\"],[0.1,\"#c51b7d\"],[0.2,\"#de77ae\"],[0.3,\"#f1b6da\"],[0.4,\"#fde0ef\"],[0.5,\"#f7f7f7\"],[0.6,\"#e6f5d0\"],[0.7,\"#b8e186\"],[0.8,\"#7fbc41\"],[0.9,\"#4d9221\"],[1,\"#276419\"]],\"sequential\":[[0.0,\"#0d0887\"],[0.1111111111111111,\"#46039f\"],[0.2222222222222222,\"#7201a8\"],[0.3333333333333333,\"#9c179e\"],[0.4444444444444444,\"#bd3786\"],[0.5555555555555556,\"#d8576b\"],[0.6666666666666666,\"#ed7953\"],[0.7777777777777778,\"#fb9f3a\"],[0.8888888888888888,\"#fdca26\"],[1.0,\"#f0f921\"]],\"sequentialminus\":[[0.0,\"#0d0887\"],[0.1111111111111111,\"#46039f\"],[0.2222222222222222,\"#7201a8\"],[0.3333333333333333,\"#9c179e\"],[0.4444444444444444,\"#bd3786\"],[0.5555555555555556,\"#d8576b\"],[0.6666666666666666,\"#ed7953\"],[0.7777777777777778,\"#fb9f3a\"],[0.8888888888888888,\"#fdca26\"],[1.0,\"#f0f921\"]]},\"colorway\":[\"#636efa\",\"#EF553B\",\"#00cc96\",\"#ab63fa\",\"#FFA15A\",\"#19d3f3\",\"#FF6692\",\"#B6E880\",\"#FF97FF\",\"#FECB52\"],\"font\":{\"color\":\"#2a3f5f\"},\"geo\":{\"bgcolor\":\"white\",\"lakecolor\":\"white\",\"landcolor\":\"#E5ECF6\",\"showlakes\":true,\"showland\":true,\"subunitcolor\":\"white\"},\"hoverlabel\":{\"align\":\"left\"},\"hovermode\":\"closest\",\"mapbox\":{\"style\":\"light\"},\"paper_bgcolor\":\"white\",\"plot_bgcolor\":\"#E5ECF6\",\"polar\":{\"angularaxis\":{\"gridcolor\":\"white\",\"linecolor\":\"white\",\"ticks\":\"\"},\"bgcolor\":\"#E5ECF6\",\"radialaxis\":{\"gridcolor\":\"white\",\"linecolor\":\"white\",\"ticks\":\"\"}},\"scene\":{\"xaxis\":{\"backgroundcolor\":\"#E5ECF6\",\"gridcolor\":\"white\",\"gridwidth\":2,\"linecolor\":\"white\",\"showbackground\":true,\"ticks\":\"\",\"zerolinecolor\":\"white\"},\"yaxis\":{\"backgroundcolor\":\"#E5ECF6\",\"gridcolor\":\"white\",\"gridwidth\":2,\"linecolor\":\"white\",\"showbackground\":true,\"ticks\":\"\",\"zerolinecolor\":\"white\"},\"zaxis\":{\"backgroundcolor\":\"#E5ECF6\",\"gridcolor\":\"white\",\"gridwidth\":2,\"linecolor\":\"white\",\"showbackground\":true,\"ticks\":\"\",\"zerolinecolor\":\"white\"}},\"shapedefaults\":{\"line\":{\"color\":\"#2a3f5f\"}},\"ternary\":{\"aaxis\":{\"gridcolor\":\"white\",\"linecolor\":\"white\",\"ticks\":\"\"},\"baxis\":{\"gridcolor\":\"white\",\"linecolor\":\"white\",\"ticks\":\"\"},\"bgcolor\":\"#E5ECF6\",\"caxis\":{\"gridcolor\":\"white\",\"linecolor\":\"white\",\"ticks\":\"\"}},\"title\":{\"x\":0.05},\"xaxis\":{\"automargin\":true,\"gridcolor\":\"white\",\"linecolor\":\"white\",\"ticks\":\"\",\"title\":{\"standoff\":15},\"zerolinecolor\":\"white\",\"zerolinewidth\":2},\"yaxis\":{\"automargin\":true,\"gridcolor\":\"white\",\"linecolor\":\"white\",\"ticks\":\"\",\"title\":{\"standoff\":15},\"zerolinecolor\":\"white\",\"zerolinewidth\":2}}},\"xaxis\":{\"anchor\":\"y\",\"domain\":[0.0,1.0],\"title\":{\"text\":\"Worldwide Profit\"}},\"yaxis\":{\"anchor\":\"x\",\"domain\":[0.0,1.0],\"title\":{\"text\":\"Movie Name\"}},\"legend\":{\"title\":{\"text\":\"studio\"},\"tracegroupgap\":0},\"title\":{\"text\":\"Top 20 Movies Based On Profit\",\"y\":0.9,\"x\":0.5,\"xanchor\":\"center\",\"yanchor\":\"top\"},\"barmode\":\"relative\"},                        {\"responsive\": true}                    ).then(function(){\n",
       "                            \n",
       "var gd = document.getElementById('761adf22-dc99-4654-b937-eaffededfa00');\n",
       "var x = new MutationObserver(function (mutations, observer) {{\n",
       "        var display = window.getComputedStyle(gd).display;\n",
       "        if (!display || display === 'none') {{\n",
       "            console.log([gd, 'removed!']);\n",
       "            Plotly.purge(gd);\n",
       "            observer.disconnect();\n",
       "        }}\n",
       "}});\n",
       "\n",
       "// Listen for the removal of the full notebook cells\n",
       "var notebookContainer = gd.closest('#notebook-container');\n",
       "if (notebookContainer) {{\n",
       "    x.observe(notebookContainer, {childList: true});\n",
       "}}\n",
       "\n",
       "// Listen for the clearing of the current output cell\n",
       "var outputEl = gd.closest('.output');\n",
       "if (outputEl) {{\n",
       "    x.observe(outputEl, {childList: true});\n",
       "}}\n",
       "\n",
       "                        })                };                });            </script>        </div>"
      ]
     },
     "metadata": {},
     "output_type": "display_data"
    }
   ],
   "source": [
    "fig = px.bar(top_20, \n",
    "       x = 'worldwide_gross',\n",
    "       y = 'movie', \n",
    "       color = 'studio',\n",
    "       orientation = 'h',\n",
    "       title=\"Top 20 Movies Based On Profit\",\n",
    "       labels={'movie':'Movie Name', 'worldwide_gross': 'Worldwide Profit',\n",
    "              'studio':'studio'})\n",
    "\n",
    "fig.update_layout(\n",
    "    title={\n",
    "        'text': \"Top 20 Movies Based On Profit\",\n",
    "        'y':0.9,\n",
    "        'x':0.5,\n",
    "        'xanchor': 'center',\n",
    "        'yanchor': 'top'})\n",
    "\n",
    "fig.show()\n",
    "\n"
   ]
  },
  {
   "cell_type": "code",
   "execution_count": 88,
   "id": "2735c940",
   "metadata": {},
   "outputs": [
    {
     "ename": "AttributeError",
     "evalue": "'float' object has no attribute 'corr'",
     "output_type": "error",
     "traceback": [
      "\u001b[0;31m---------------------------------------------------------------------------\u001b[0m",
      "\u001b[0;31mAttributeError\u001b[0m                            Traceback (most recent call last)",
      "Input \u001b[0;32mIn [88]\u001b[0m, in \u001b[0;36m<cell line: 1>\u001b[0;34m()\u001b[0m\n\u001b[0;32m----> 1\u001b[0m \u001b[43maction_pp\u001b[49m\u001b[38;5;241;43m.\u001b[39;49m\u001b[43mcorr\u001b[49m()\n",
      "\u001b[0;31mAttributeError\u001b[0m: 'float' object has no attribute 'corr'"
     ]
    }
   ],
   "source": [
    "action_pp.corr()"
   ]
  },
  {
   "cell_type": "code",
   "execution_count": null,
   "id": "437bf706",
   "metadata": {},
   "outputs": [],
   "source": []
  }
 ],
 "metadata": {
  "kernelspec": {
   "display_name": "Python 3 (ipykernel)",
   "language": "python",
   "name": "python3"
  },
  "language_info": {
   "codemirror_mode": {
    "name": "ipython",
    "version": 3
   },
   "file_extension": ".py",
   "mimetype": "text/x-python",
   "name": "python",
   "nbconvert_exporter": "python",
   "pygments_lexer": "ipython3",
   "version": "3.9.12"
  }
 },
 "nbformat": 4,
 "nbformat_minor": 5
}
