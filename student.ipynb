{
 "cells": [
  {
   "cell_type": "code",
   "execution_count": 1305,
   "metadata": {
    "scrolled": true
   },
   "outputs": [],
   "source": [
    "## Final Project Submission\n",
    "\n",
    "#Please fill out:\n",
    "#* Student name:patrick priestley \n",
    "#* Student pace: self paced / part time / full time\n",
    "#* Scheduled project review date/time: \n",
    "#* Instructor name:Joseph Mata\n",
    "#* Blog post URL:https://flatiron-school.slack.com/archives/C033EDNNA1Z/p1665148267333919\n"
   ]
  },
  {
   "cell_type": "code",
   "execution_count": 27,
   "metadata": {
    "scrolled": true
   },
   "outputs": [],
   "source": [
    "# Your code here - remember to use markdown cells for comments as well!\n",
    "import pandas as pd\n",
    "import numpy as np\n",
    "import seaborn as sns\n",
    "import matplotlib.pyplot as plt\n"
   ]
  },
  {
   "cell_type": "code",
   "execution_count": 28,
   "metadata": {
    "scrolled": true
   },
   "outputs": [],
   "source": [
    "imdbset = pd.read_csv('/Users/patrickpriestley/Downloads/data.tsv',sep='\\t')"
   ]
  },
  {
   "cell_type": "code",
   "execution_count": 29,
   "metadata": {
    "scrolled": true
   },
   "outputs": [
    {
     "name": "stdout",
     "output_type": "stream",
     "text": [
      "Index(['nconst', 'primaryName', 'birthYear', 'deathYear', 'primaryProfession',\n",
      "       'knownForTitles'],\n",
      "      dtype='object')\n"
     ]
    }
   ],
   "source": [
    "print(imdbset.columns)"
   ]
  },
  {
   "cell_type": "code",
   "execution_count": 30,
   "metadata": {
    "scrolled": true
   },
   "outputs": [
    {
     "data": {
      "text/html": [
       "<div>\n",
       "<style scoped>\n",
       "    .dataframe tbody tr th:only-of-type {\n",
       "        vertical-align: middle;\n",
       "    }\n",
       "\n",
       "    .dataframe tbody tr th {\n",
       "        vertical-align: top;\n",
       "    }\n",
       "\n",
       "    .dataframe thead th {\n",
       "        text-align: right;\n",
       "    }\n",
       "</style>\n",
       "<table border=\"1\" class=\"dataframe\">\n",
       "  <thead>\n",
       "    <tr style=\"text-align: right;\">\n",
       "      <th></th>\n",
       "      <th>nconst</th>\n",
       "      <th>primaryName</th>\n",
       "      <th>birthYear</th>\n",
       "      <th>deathYear</th>\n",
       "      <th>primaryProfession</th>\n",
       "      <th>knownForTitles</th>\n",
       "    </tr>\n",
       "  </thead>\n",
       "  <tbody>\n",
       "    <tr>\n",
       "      <th>281</th>\n",
       "      <td>nm0000282</td>\n",
       "      <td>Scott Bairstow</td>\n",
       "      <td>1970</td>\n",
       "      <td>\\N</td>\n",
       "      <td>actor</td>\n",
       "      <td>tt0119925,tt0120512,tt0182587,tt0283084</td>\n",
       "    </tr>\n",
       "    <tr>\n",
       "      <th>313</th>\n",
       "      <td>nm0000314</td>\n",
       "      <td>Charles Bronson</td>\n",
       "      <td>1921</td>\n",
       "      <td>2003</td>\n",
       "      <td>actor</td>\n",
       "      <td>tt0057115,tt0071402,tt0054047,tt0064116</td>\n",
       "    </tr>\n",
       "    <tr>\n",
       "      <th>373</th>\n",
       "      <td>nm0000374</td>\n",
       "      <td>Brad Dourif</td>\n",
       "      <td>1950</td>\n",
       "      <td>\\N</td>\n",
       "      <td>actor</td>\n",
       "      <td>tt0167261,tt0099528,tt0073486,tt0095647</td>\n",
       "    </tr>\n",
       "    <tr>\n",
       "      <th>605</th>\n",
       "      <td>nm0000606</td>\n",
       "      <td>Jean Reno</td>\n",
       "      <td>1948</td>\n",
       "      <td>\\N</td>\n",
       "      <td>actor</td>\n",
       "      <td>tt0122690,tt0095250,tt0110413,tt0383216</td>\n",
       "    </tr>\n",
       "    <tr>\n",
       "      <th>668</th>\n",
       "      <td>nm0000669</td>\n",
       "      <td>Fred Thompson</td>\n",
       "      <td>1942</td>\n",
       "      <td>2015</td>\n",
       "      <td>actor</td>\n",
       "      <td>tt0099423,tt0093640,tt0109190,tt0099810</td>\n",
       "    </tr>\n",
       "    <tr>\n",
       "      <th>...</th>\n",
       "      <td>...</td>\n",
       "      <td>...</td>\n",
       "      <td>...</td>\n",
       "      <td>...</td>\n",
       "      <td>...</td>\n",
       "      <td>...</td>\n",
       "    </tr>\n",
       "    <tr>\n",
       "      <th>11972668</th>\n",
       "      <td>nm9993697</td>\n",
       "      <td>Zakariya Ganim</td>\n",
       "      <td>\\N</td>\n",
       "      <td>\\N</td>\n",
       "      <td>actor</td>\n",
       "      <td>\\N</td>\n",
       "    </tr>\n",
       "    <tr>\n",
       "      <th>11972669</th>\n",
       "      <td>nm9993698</td>\n",
       "      <td>Sebi John</td>\n",
       "      <td>\\N</td>\n",
       "      <td>\\N</td>\n",
       "      <td>actor</td>\n",
       "      <td>tt8736744</td>\n",
       "    </tr>\n",
       "    <tr>\n",
       "      <th>11972670</th>\n",
       "      <td>nm9993699</td>\n",
       "      <td>Dani Jacob</td>\n",
       "      <td>\\N</td>\n",
       "      <td>\\N</td>\n",
       "      <td>actor</td>\n",
       "      <td>tt8736744</td>\n",
       "    </tr>\n",
       "    <tr>\n",
       "      <th>11972672</th>\n",
       "      <td>nm9993701</td>\n",
       "      <td>Sanjai Kuriakose</td>\n",
       "      <td>\\N</td>\n",
       "      <td>\\N</td>\n",
       "      <td>actor</td>\n",
       "      <td>tt8736744</td>\n",
       "    </tr>\n",
       "    <tr>\n",
       "      <th>11972674</th>\n",
       "      <td>nm9993703</td>\n",
       "      <td>James Craigmyle</td>\n",
       "      <td>\\N</td>\n",
       "      <td>\\N</td>\n",
       "      <td>actor</td>\n",
       "      <td>tt6225166,tt11212278,tt10627062,tt6914160</td>\n",
       "    </tr>\n",
       "  </tbody>\n",
       "</table>\n",
       "<p>2129258 rows × 6 columns</p>\n",
       "</div>"
      ],
      "text/plain": [
       "             nconst       primaryName birthYear deathYear primaryProfession  \\\n",
       "281       nm0000282    Scott Bairstow      1970        \\N             actor   \n",
       "313       nm0000314   Charles Bronson      1921      2003             actor   \n",
       "373       nm0000374       Brad Dourif      1950        \\N             actor   \n",
       "605       nm0000606         Jean Reno      1948        \\N             actor   \n",
       "668       nm0000669     Fred Thompson      1942      2015             actor   \n",
       "...             ...               ...       ...       ...               ...   \n",
       "11972668  nm9993697    Zakariya Ganim        \\N        \\N             actor   \n",
       "11972669  nm9993698         Sebi John        \\N        \\N             actor   \n",
       "11972670  nm9993699        Dani Jacob        \\N        \\N             actor   \n",
       "11972672  nm9993701  Sanjai Kuriakose        \\N        \\N             actor   \n",
       "11972674  nm9993703   James Craigmyle        \\N        \\N             actor   \n",
       "\n",
       "                                     knownForTitles  \n",
       "281         tt0119925,tt0120512,tt0182587,tt0283084  \n",
       "313         tt0057115,tt0071402,tt0054047,tt0064116  \n",
       "373         tt0167261,tt0099528,tt0073486,tt0095647  \n",
       "605         tt0122690,tt0095250,tt0110413,tt0383216  \n",
       "668         tt0099423,tt0093640,tt0109190,tt0099810  \n",
       "...                                             ...  \n",
       "11972668                                         \\N  \n",
       "11972669                                  tt8736744  \n",
       "11972670                                  tt8736744  \n",
       "11972672                                  tt8736744  \n",
       "11972674  tt6225166,tt11212278,tt10627062,tt6914160  \n",
       "\n",
       "[2129258 rows x 6 columns]"
      ]
     },
     "execution_count": 30,
     "metadata": {},
     "output_type": "execute_result"
    }
   ],
   "source": [
    "imdbset[(imdbset['primaryProfession'] == 'actor') ]"
   ]
  },
  {
   "cell_type": "code",
   "execution_count": 31,
   "metadata": {
    "scrolled": true
   },
   "outputs": [],
   "source": [
    "\n",
    "\n",
    "dftmdb = pd.read_csv('zippedData/tmdb.movies.csv')\n"
   ]
  },
  {
   "cell_type": "code",
   "execution_count": 32,
   "metadata": {
    "scrolled": true
   },
   "outputs": [
    {
     "data": {
      "text/html": [
       "<div>\n",
       "<style scoped>\n",
       "    .dataframe tbody tr th:only-of-type {\n",
       "        vertical-align: middle;\n",
       "    }\n",
       "\n",
       "    .dataframe tbody tr th {\n",
       "        vertical-align: top;\n",
       "    }\n",
       "\n",
       "    .dataframe thead th {\n",
       "        text-align: right;\n",
       "    }\n",
       "</style>\n",
       "<table border=\"1\" class=\"dataframe\">\n",
       "  <thead>\n",
       "    <tr style=\"text-align: right;\">\n",
       "      <th></th>\n",
       "      <th>Unnamed: 0</th>\n",
       "      <th>genre_ids</th>\n",
       "      <th>id</th>\n",
       "      <th>original_language</th>\n",
       "      <th>original_title</th>\n",
       "      <th>popularity</th>\n",
       "      <th>release_date</th>\n",
       "      <th>title</th>\n",
       "      <th>vote_average</th>\n",
       "      <th>vote_count</th>\n",
       "    </tr>\n",
       "  </thead>\n",
       "  <tbody>\n",
       "    <tr>\n",
       "      <th>4</th>\n",
       "      <td>4</td>\n",
       "      <td>[28, 878, 12]</td>\n",
       "      <td>27205</td>\n",
       "      <td>en</td>\n",
       "      <td>Inception</td>\n",
       "      <td>27.920</td>\n",
       "      <td>2010-07-16</td>\n",
       "      <td>Inception</td>\n",
       "      <td>8.3</td>\n",
       "      <td>22186</td>\n",
       "    </tr>\n",
       "    <tr>\n",
       "      <th>19</th>\n",
       "      <td>19</td>\n",
       "      <td>[18, 53, 9648]</td>\n",
       "      <td>11324</td>\n",
       "      <td>en</td>\n",
       "      <td>Shutter Island</td>\n",
       "      <td>18.060</td>\n",
       "      <td>2010-02-18</td>\n",
       "      <td>Shutter Island</td>\n",
       "      <td>8.1</td>\n",
       "      <td>12625</td>\n",
       "    </tr>\n",
       "    <tr>\n",
       "      <th>43</th>\n",
       "      <td>43</td>\n",
       "      <td>[35, 10749]</td>\n",
       "      <td>239</td>\n",
       "      <td>en</td>\n",
       "      <td>Some Like It Hot</td>\n",
       "      <td>14.200</td>\n",
       "      <td>1959-03-18</td>\n",
       "      <td>Some Like It Hot</td>\n",
       "      <td>8.2</td>\n",
       "      <td>1562</td>\n",
       "    </tr>\n",
       "    <tr>\n",
       "      <th>58</th>\n",
       "      <td>58</td>\n",
       "      <td>[18]</td>\n",
       "      <td>705</td>\n",
       "      <td>en</td>\n",
       "      <td>All About Eve</td>\n",
       "      <td>13.163</td>\n",
       "      <td>2000-10-06</td>\n",
       "      <td>All About Eve</td>\n",
       "      <td>8.2</td>\n",
       "      <td>685</td>\n",
       "    </tr>\n",
       "    <tr>\n",
       "      <th>103</th>\n",
       "      <td>103</td>\n",
       "      <td>[28, 18, 36]</td>\n",
       "      <td>11645</td>\n",
       "      <td>ja</td>\n",
       "      <td>乱</td>\n",
       "      <td>10.885</td>\n",
       "      <td>1985-09-26</td>\n",
       "      <td>Ran</td>\n",
       "      <td>8.1</td>\n",
       "      <td>600</td>\n",
       "    </tr>\n",
       "    <tr>\n",
       "      <th>...</th>\n",
       "      <td>...</td>\n",
       "      <td>...</td>\n",
       "      <td>...</td>\n",
       "      <td>...</td>\n",
       "      <td>...</td>\n",
       "      <td>...</td>\n",
       "      <td>...</td>\n",
       "      <td>...</td>\n",
       "      <td>...</td>\n",
       "      <td>...</td>\n",
       "    </tr>\n",
       "    <tr>\n",
       "      <th>26287</th>\n",
       "      <td>26287</td>\n",
       "      <td>[10402, 35, 10770]</td>\n",
       "      <td>541619</td>\n",
       "      <td>en</td>\n",
       "      <td>Teen Choice</td>\n",
       "      <td>0.600</td>\n",
       "      <td>2018-08-12</td>\n",
       "      <td>Teen Choice</td>\n",
       "      <td>8.5</td>\n",
       "      <td>1</td>\n",
       "    </tr>\n",
       "    <tr>\n",
       "      <th>26288</th>\n",
       "      <td>26288</td>\n",
       "      <td>[99]</td>\n",
       "      <td>507190</td>\n",
       "      <td>en</td>\n",
       "      <td>The Push</td>\n",
       "      <td>0.600</td>\n",
       "      <td>2018-02-09</td>\n",
       "      <td>The Push</td>\n",
       "      <td>8.5</td>\n",
       "      <td>1</td>\n",
       "    </tr>\n",
       "    <tr>\n",
       "      <th>26289</th>\n",
       "      <td>26289</td>\n",
       "      <td>[99]</td>\n",
       "      <td>506730</td>\n",
       "      <td>en</td>\n",
       "      <td>Neat: The Story of Bourbon</td>\n",
       "      <td>0.600</td>\n",
       "      <td>2018-02-20</td>\n",
       "      <td>Neat: The Story of Bourbon</td>\n",
       "      <td>8.5</td>\n",
       "      <td>2</td>\n",
       "    </tr>\n",
       "    <tr>\n",
       "      <th>26290</th>\n",
       "      <td>26290</td>\n",
       "      <td>[16, 18]</td>\n",
       "      <td>562416</td>\n",
       "      <td>en</td>\n",
       "      <td>Pip</td>\n",
       "      <td>0.600</td>\n",
       "      <td>2018-10-25</td>\n",
       "      <td>Pip</td>\n",
       "      <td>8.3</td>\n",
       "      <td>3</td>\n",
       "    </tr>\n",
       "    <tr>\n",
       "      <th>26291</th>\n",
       "      <td>26291</td>\n",
       "      <td>[99]</td>\n",
       "      <td>375860</td>\n",
       "      <td>en</td>\n",
       "      <td>The Surrounding Game</td>\n",
       "      <td>0.600</td>\n",
       "      <td>2017-04-03</td>\n",
       "      <td>The Surrounding Game</td>\n",
       "      <td>8.3</td>\n",
       "      <td>3</td>\n",
       "    </tr>\n",
       "  </tbody>\n",
       "</table>\n",
       "<p>2350 rows × 10 columns</p>\n",
       "</div>"
      ],
      "text/plain": [
       "       Unnamed: 0           genre_ids      id original_language  \\\n",
       "4               4       [28, 878, 12]   27205                en   \n",
       "19             19      [18, 53, 9648]   11324                en   \n",
       "43             43         [35, 10749]     239                en   \n",
       "58             58                [18]     705                en   \n",
       "103           103        [28, 18, 36]   11645                ja   \n",
       "...           ...                 ...     ...               ...   \n",
       "26287       26287  [10402, 35, 10770]  541619                en   \n",
       "26288       26288                [99]  507190                en   \n",
       "26289       26289                [99]  506730                en   \n",
       "26290       26290            [16, 18]  562416                en   \n",
       "26291       26291                [99]  375860                en   \n",
       "\n",
       "                   original_title  popularity release_date  \\\n",
       "4                       Inception      27.920   2010-07-16   \n",
       "19                 Shutter Island      18.060   2010-02-18   \n",
       "43               Some Like It Hot      14.200   1959-03-18   \n",
       "58                  All About Eve      13.163   2000-10-06   \n",
       "103                             乱      10.885   1985-09-26   \n",
       "...                           ...         ...          ...   \n",
       "26287                 Teen Choice       0.600   2018-08-12   \n",
       "26288                    The Push       0.600   2018-02-09   \n",
       "26289  Neat: The Story of Bourbon       0.600   2018-02-20   \n",
       "26290                         Pip       0.600   2018-10-25   \n",
       "26291        The Surrounding Game       0.600   2017-04-03   \n",
       "\n",
       "                            title  vote_average  vote_count  \n",
       "4                       Inception           8.3       22186  \n",
       "19                 Shutter Island           8.1       12625  \n",
       "43               Some Like It Hot           8.2        1562  \n",
       "58                  All About Eve           8.2         685  \n",
       "103                           Ran           8.1         600  \n",
       "...                           ...           ...         ...  \n",
       "26287                 Teen Choice           8.5           1  \n",
       "26288                    The Push           8.5           1  \n",
       "26289  Neat: The Story of Bourbon           8.5           2  \n",
       "26290                         Pip           8.3           3  \n",
       "26291        The Surrounding Game           8.3           3  \n",
       "\n",
       "[2350 rows x 10 columns]"
      ]
     },
     "execution_count": 32,
     "metadata": {},
     "output_type": "execute_result"
    }
   ],
   "source": [
    "dftmdb[dftmdb['vote_average'] >8 ]\n"
   ]
  },
  {
   "cell_type": "code",
   "execution_count": 34,
   "metadata": {
    "scrolled": true
   },
   "outputs": [
    {
     "name": "stdout",
     "output_type": "stream",
     "text": [
      "Index(['Unnamed: 0', 'genre_ids', 'id', 'original_language', 'original_title',\n",
      "       'popularity', 'release_date', 'title', 'vote_average', 'vote_count'],\n",
      "      dtype='object')\n"
     ]
    },
    {
     "ename": "NameError",
     "evalue": "name 'dfbudg' is not defined",
     "output_type": "error",
     "traceback": [
      "\u001b[0;31m---------------------------------------------------------------------------\u001b[0m",
      "\u001b[0;31mNameError\u001b[0m                                 Traceback (most recent call last)",
      "Input \u001b[0;32mIn [34]\u001b[0m, in \u001b[0;36m<cell line: 2>\u001b[0;34m()\u001b[0m\n\u001b[1;32m      1\u001b[0m \u001b[38;5;28mprint\u001b[39m(dftmdb\u001b[38;5;241m.\u001b[39mcolumns)\n\u001b[0;32m----> 2\u001b[0m \u001b[38;5;28mprint\u001b[39m(\u001b[43mdfbudg\u001b[49m\u001b[38;5;241m.\u001b[39mcolumns)\n\u001b[1;32m      3\u001b[0m \u001b[38;5;28mprint\u001b[39m(dfreviews\u001b[38;5;241m.\u001b[39mcolumns)\n\u001b[1;32m      4\u001b[0m \u001b[38;5;28mprint\u001b[39m(dfmovie_info\u001b[38;5;241m.\u001b[39mcolumns)\n",
      "\u001b[0;31mNameError\u001b[0m: name 'dfbudg' is not defined"
     ]
    }
   ],
   "source": [
    "print(dftmdb.columns)\n",
    "print(dfbudg.columns)\n",
    "print(dfreviews.columns)\n",
    "print(dfmovie_info.columns)"
   ]
  },
  {
   "cell_type": "markdown",
   "metadata": {
    "scrolled": true
   },
   "source": [
    "\n",
    "\n"
   ]
  },
  {
   "cell_type": "code",
   "execution_count": null,
   "metadata": {
    "scrolled": true
   },
   "outputs": [],
   "source": [
    "dftmdb"
   ]
  },
  {
   "cell_type": "code",
   "execution_count": null,
   "metadata": {
    "scrolled": true
   },
   "outputs": [],
   "source": [
    "\n",
    "#merge data sets \n",
    "#clean and convert rowe$ to int\n",
    "\n",
    "pd.merge(dfreviews, dftmdb, on = \"id\", how = \"outer\")"
   ]
  },
  {
   "cell_type": "code",
   "execution_count": null,
   "metadata": {
    "scrolled": true
   },
   "outputs": [],
   "source": [
    "dfbudg"
   ]
  },
  {
   "cell_type": "code",
   "execution_count": null,
   "metadata": {
    "scrolled": true
   },
   "outputs": [],
   "source": [
    "dfbudg['release_date'] = pd.to_datetime(dfbudg['release_date'])"
   ]
  },
  {
   "cell_type": "code",
   "execution_count": null,
   "metadata": {
    "scrolled": true
   },
   "outputs": [],
   "source": [
    "dfbudg['year'] = dfbudg['release_date'].dt.year"
   ]
  },
  {
   "cell_type": "code",
   "execution_count": null,
   "metadata": {
    "scrolled": true
   },
   "outputs": [],
   "source": [
    "dfbudg['month'] = dfbudg['release_date'].dt.month"
   ]
  },
  {
   "cell_type": "code",
   "execution_count": null,
   "metadata": {
    "scrolled": true
   },
   "outputs": [],
   "source": [
    "dfbudg.groupby('month').max()['worldwide_gross'].plot(kind = 'bar')"
   ]
  },
  {
   "cell_type": "code",
   "execution_count": null,
   "metadata": {
    "scrolled": true
   },
   "outputs": [],
   "source": [
    "#find top10 movies by gross y2017\n",
    "dfbudg[dfbudg['year'] > 2017].sort_values(by = 'worldwide_gross', ascending = False).head(10)"
   ]
  },
  {
   "cell_type": "code",
   "execution_count": null,
   "metadata": {
    "scrolled": true
   },
   "outputs": [],
   "source": [
    "#find top10 movies by gross y>2017\n",
    "#clean and convert rowe$ to int\n",
    "\n"
   ]
  },
  {
   "cell_type": "code",
   "execution_count": null,
   "metadata": {
    "scrolled": true
   },
   "outputs": [],
   "source": [
    "top10recentmovies= dfbudg[dfbudg['year'] > 2017].sort_values(by = 'worldwide_gross', ascending = False).head(10)"
   ]
  },
  {
   "cell_type": "code",
   "execution_count": null,
   "metadata": {
    "scrolled": true
   },
   "outputs": [],
   "source": [
    "domestic = (top10recentmovies[\"domestic_gross\"])"
   ]
  },
  {
   "cell_type": "code",
   "execution_count": null,
   "metadata": {
    "scrolled": true
   },
   "outputs": [],
   "source": [
    "\n",
    "\n",
    "ax = plt.subplots()\n",
    " \n",
    "# plotting columns\n",
    "ax = sns.barplot(x=top10recentmovies[\"worldwide_gross\"], y=top10recentmovies[\"movie\"], color='b')\n",
    "ax = sns.barplot(x=top10recentmovies[\"domestic_gross\"], y=top10recentmovies[\"movie\"], color='r')\n",
    "\n",
    "plt.xlabel(\"movie\")\n",
    "plt.ylabel(\"gross in billions\")\n",
    "plt.xticks(rotation=45)\n",
    "\n",
    "plt.show()"
   ]
  },
  {
   "cell_type": "code",
   "execution_count": null,
   "metadata": {
    "scrolled": true
   },
   "outputs": [],
   "source": [
    "ax = plt.subplots()\n",
    " \n",
    "# plotting columns\n",
    "ax = sns.barplot(x=top10recentmovies[\"worldwide_gross\"], y=top10recentmovies[\"movie\"], color='b')\n",
    "ax = sns.barplot(x=top10recentmovies[\"domestic_gross\"], y=top10recentmovies[\"movie\"], color='r')\n",
    "ax = sns.barplot(x=top10recentmovies[\"production_budget\"], y=top10recentmovies[\"movie\"], color='g')\n",
    "\n",
    "\n",
    "plt.xlabel(\"movie\")\n",
    "plt.ylabel(\"gross in billions\")\n",
    "plt.xticks(rotation=45)\n",
    "\n",
    "plt.show()"
   ]
  },
  {
   "cell_type": "code",
   "execution_count": null,
   "metadata": {
    "scrolled": true
   },
   "outputs": [],
   "source": [
    "import seaborn as sns\n",
    "import matplotlib.pyplot as plt"
   ]
  },
  {
   "cell_type": "code",
   "execution_count": null,
   "metadata": {
    "scrolled": true
   },
   "outputs": [],
   "source": [
    " \n",
    "dfbudg.groupby('month').max()['worldwide_gross'].plot(kind = 'bar')\n",
    "\n",
    "# ax.set_xlabel(cmap_category + ' colormaps', fontsize=14)\n",
    "\n",
    "sns.barplot(dfbudg.groupby('month').max()['worldwide_gross'].index ,dfbudg.groupby('month').max()['worldwide_gross'].values )"
   ]
  },
  {
   "cell_type": "code",
   "execution_count": null,
   "metadata": {
    "scrolled": true
   },
   "outputs": [],
   "source": [
    "#join budget and votes, looking for coralation $=votes\n",
    "#convert to df to date time\n",
    "\n",
    "dftmdb['release_date'] = pd.to_datetime(dftmdb['release_date'])\n",
    "#dfbudg.dtypes\n",
    "\n",
    "#cashvote= dftmdb.merge(dfbudg, how = 'left', on = ['release_date'])"
   ]
  },
  {
   "cell_type": "code",
   "execution_count": null,
   "metadata": {
    "scrolled": true
   },
   "outputs": [],
   "source": [
    "cashvote= dftmdb.merge(dfbudg, how = 'left', on = ['release_date'])\n",
    "cashvote.dtypes"
   ]
  },
  {
   "cell_type": "code",
   "execution_count": null,
   "metadata": {
    "scrolled": true
   },
   "outputs": [],
   "source": [
    "dfbudg"
   ]
  },
  {
   "cell_type": "code",
   "execution_count": null,
   "metadata": {
    "scrolled": true
   },
   "outputs": [],
   "source": [
    "import seaborn as sns\n",
    "\n",
    "\n",
    "sns.regplot(x=cashvote[\"production_budget\"], y=cashvote[\"worldwide_gross\"])\n",
    "\n",
    "\n",
    "\n",
    "\n",
    "\n"
   ]
  },
  {
   "cell_type": "code",
   "execution_count": null,
   "metadata": {
    "scrolled": true
   },
   "outputs": [],
   "source": [
    "cashvote.groupby('vote_count').mean().sort_values(by = 'worldwide_gross', ascending = False).head(20)"
   ]
  },
  {
   "cell_type": "code",
   "execution_count": null,
   "metadata": {
    "scrolled": true
   },
   "outputs": [],
   "source": [
    "dftmdb.groupby('genre_ids').mean().sort_values(by = 'popularity', ascending = False).head(20)"
   ]
  },
  {
   "cell_type": "code",
   "execution_count": null,
   "metadata": {
    "scrolled": true
   },
   "outputs": [],
   "source": [
    "dfmovie_info = pd.read_csv('zippedData/rt.movie_info.tsv',sep='\\t')"
   ]
  },
  {
   "cell_type": "code",
   "execution_count": null,
   "metadata": {
    "scrolled": true
   },
   "outputs": [],
   "source": [
    "import sqlite3\n",
    "lovemv = sqlite3.Connection('zippedData/im.db')\n",
    "\n",
    "\n"
   ]
  },
  {
   "cell_type": "code",
   "execution_count": null,
   "metadata": {
    "scrolled": true
   },
   "outputs": [],
   "source": [
    "\n",
    "\n",
    "lovemv, (\"\"\"SELECT *  sqlite_master: con=conn,\"\"\"),\n",
    "\n"
   ]
  },
  {
   "cell_type": "code",
   "execution_count": 9,
   "metadata": {
    "scrolled": true
   },
   "outputs": [
    {
     "name": "stdout",
     "output_type": "stream",
     "text": [
      "CREATE TABLE IF NOT EXISTS \"movie_basics\" (\n",
      "\"movie_id\" TEXT,\n",
      "  \"primary_title\" TEXT,\n",
      "  \"original_title\" TEXT,\n",
      "  \"start_year\" INTEGER,\n",
      "  \"runtime_minutes\" REAL,\n",
      "  \"genres\" TEXT\n",
      ");\n",
      "CREATE TABLE IF NOT EXISTS \"directors\" (\n",
      "\"movie_id\" TEXT,\n",
      "  \"person_id\" TEXT\n",
      ");\n",
      "CREATE TABLE IF NOT EXISTS \"known_for\" (\n",
      "\"person_id\" TEXT,\n",
      "  \"movie_id\" TEXT\n",
      ");\n",
      "CREATE TABLE IF NOT EXISTS \"movie_akas\" (\n",
      "\"movie_id\" TEXT,\n",
      "  \"ordering\" INTEGER,\n",
      "  \"title\" TEXT,\n",
      "  \"region\" TEXT,\n",
      "  \"language\" TEXT,\n",
      "  \"types\" TEXT,\n",
      "  \"attributes\" TEXT,\n",
      "  \"is_original_title\" REAL\n",
      ");\n",
      "CREATE TABLE IF NOT EXISTS \"movie_ratings\" (\n",
      "\"movie_id\" TEXT,\n",
      "  \"averagerating\" REAL,\n",
      "  \"numvotes\" INTEGER\n",
      ");\n",
      "CREATE TABLE IF NOT EXISTS \"persons\" (\n",
      "\"person_id\" TEXT,\n",
      "  \"primary_name\" TEXT,\n",
      "  \"birth_year\" REAL,\n",
      "  \"death_year\" REAL,\n",
      "  \"primary_profession\" TEXT\n",
      ");\n",
      "CREATE TABLE IF NOT EXISTS \"principals\" (\n",
      "\"movie_id\" TEXT,\n",
      "  \"ordering\" INTEGER,\n",
      "  \"person_id\" TEXT,\n",
      "  \"category\" TEXT,\n",
      "  \"job\" TEXT,\n",
      "  \"characters\" TEXT\n",
      ");\n",
      "CREATE TABLE IF NOT EXISTS \"writers\" (\n",
      "\"movie_id\" TEXT,\n",
      "  \"person_id\" TEXT\n",
      ");\n"
     ]
    }
   ],
   "source": [
    "%%bash \n",
    "sqlite3 zippedData/im.db\n",
    ".schema"
   ]
  },
  {
   "cell_type": "code",
   "execution_count": 10,
   "metadata": {
    "scrolled": true
   },
   "outputs": [],
   "source": [
    "sql_query = \"\"\"SELECT name FROM sqlite_master  \n",
    "  WHERE type='table';\"\"\""
   ]
  },
  {
   "cell_type": "code",
   "execution_count": 1340,
   "metadata": {
    "scrolled": true
   },
   "outputs": [],
   "source": [
    "sql_query2 = (\"\"\"SELECT * FROM movie_basics \n",
    "\n",
    "         WHERE persons=  name      ;\"\"\")\n",
    "\n"
   ]
  },
  {
   "cell_type": "code",
   "execution_count": 1341,
   "metadata": {
    "scrolled": true
   },
   "outputs": [],
   "source": [
    "pd.read_sql =(sql_query2, conn)"
   ]
  },
  {
   "cell_type": "code",
   "execution_count": 1342,
   "metadata": {
    "scrolled": true
   },
   "outputs": [],
   "source": [
    "#dfreviews = pd.read_csv('/zippedData/rt.reviews 4.tsv') #, sep='\\t')\n",
    "dfreviews = pd.read_csv('zippedData/rt.reviews_4.tsv',sep='\\t',encoding='windows-1254')"
   ]
  },
  {
   "cell_type": "code",
   "execution_count": 1343,
   "metadata": {
    "scrolled": true
   },
   "outputs": [
    {
     "data": {
      "text/html": [
       "<div>\n",
       "<style scoped>\n",
       "    .dataframe tbody tr th:only-of-type {\n",
       "        vertical-align: middle;\n",
       "    }\n",
       "\n",
       "    .dataframe tbody tr th {\n",
       "        vertical-align: top;\n",
       "    }\n",
       "\n",
       "    .dataframe thead th {\n",
       "        text-align: right;\n",
       "    }\n",
       "</style>\n",
       "<table border=\"1\" class=\"dataframe\">\n",
       "  <thead>\n",
       "    <tr style=\"text-align: right;\">\n",
       "      <th></th>\n",
       "      <th>id</th>\n",
       "      <th>review</th>\n",
       "      <th>rating</th>\n",
       "      <th>fresh</th>\n",
       "      <th>critic</th>\n",
       "      <th>top_critic</th>\n",
       "      <th>publisher</th>\n",
       "      <th>date</th>\n",
       "    </tr>\n",
       "  </thead>\n",
       "  <tbody>\n",
       "    <tr>\n",
       "      <th>0</th>\n",
       "      <td>3</td>\n",
       "      <td>A distinctly gallows take on contemporary fina...</td>\n",
       "      <td>3/5</td>\n",
       "      <td>fresh</td>\n",
       "      <td>PJ Nabarro</td>\n",
       "      <td>0</td>\n",
       "      <td>Patrick Nabarro</td>\n",
       "      <td>November 10, 2018</td>\n",
       "    </tr>\n",
       "    <tr>\n",
       "      <th>1</th>\n",
       "      <td>3</td>\n",
       "      <td>It's an allegory in search of a meaning that n...</td>\n",
       "      <td>NaN</td>\n",
       "      <td>rotten</td>\n",
       "      <td>Annalee Newitz</td>\n",
       "      <td>0</td>\n",
       "      <td>io9.com</td>\n",
       "      <td>May 23, 2018</td>\n",
       "    </tr>\n",
       "    <tr>\n",
       "      <th>2</th>\n",
       "      <td>3</td>\n",
       "      <td>... life lived in a bubble in financial dealin...</td>\n",
       "      <td>NaN</td>\n",
       "      <td>fresh</td>\n",
       "      <td>Sean Axmaker</td>\n",
       "      <td>0</td>\n",
       "      <td>Stream on Demand</td>\n",
       "      <td>January 4, 2018</td>\n",
       "    </tr>\n",
       "    <tr>\n",
       "      <th>3</th>\n",
       "      <td>3</td>\n",
       "      <td>Continuing along a line introduced in last yea...</td>\n",
       "      <td>NaN</td>\n",
       "      <td>fresh</td>\n",
       "      <td>Daniel Kasman</td>\n",
       "      <td>0</td>\n",
       "      <td>MUBI</td>\n",
       "      <td>November 16, 2017</td>\n",
       "    </tr>\n",
       "    <tr>\n",
       "      <th>4</th>\n",
       "      <td>3</td>\n",
       "      <td>... a perverse twist on neorealism...</td>\n",
       "      <td>NaN</td>\n",
       "      <td>fresh</td>\n",
       "      <td>NaN</td>\n",
       "      <td>0</td>\n",
       "      <td>Cinema Scope</td>\n",
       "      <td>October 12, 2017</td>\n",
       "    </tr>\n",
       "    <tr>\n",
       "      <th>...</th>\n",
       "      <td>...</td>\n",
       "      <td>...</td>\n",
       "      <td>...</td>\n",
       "      <td>...</td>\n",
       "      <td>...</td>\n",
       "      <td>...</td>\n",
       "      <td>...</td>\n",
       "      <td>...</td>\n",
       "    </tr>\n",
       "    <tr>\n",
       "      <th>54427</th>\n",
       "      <td>2000</td>\n",
       "      <td>The real charm of this trifle is the deadpan c...</td>\n",
       "      <td>NaN</td>\n",
       "      <td>fresh</td>\n",
       "      <td>Laura Sinagra</td>\n",
       "      <td>1</td>\n",
       "      <td>Village Voice</td>\n",
       "      <td>September 24, 2002</td>\n",
       "    </tr>\n",
       "    <tr>\n",
       "      <th>54428</th>\n",
       "      <td>2000</td>\n",
       "      <td>NaN</td>\n",
       "      <td>1/5</td>\n",
       "      <td>rotten</td>\n",
       "      <td>Michael Szymanski</td>\n",
       "      <td>0</td>\n",
       "      <td>Zap2it.com</td>\n",
       "      <td>September 21, 2005</td>\n",
       "    </tr>\n",
       "    <tr>\n",
       "      <th>54429</th>\n",
       "      <td>2000</td>\n",
       "      <td>NaN</td>\n",
       "      <td>2/5</td>\n",
       "      <td>rotten</td>\n",
       "      <td>Emanuel Levy</td>\n",
       "      <td>0</td>\n",
       "      <td>EmanuelLevy.Com</td>\n",
       "      <td>July 17, 2005</td>\n",
       "    </tr>\n",
       "    <tr>\n",
       "      <th>54430</th>\n",
       "      <td>2000</td>\n",
       "      <td>NaN</td>\n",
       "      <td>2.5/5</td>\n",
       "      <td>rotten</td>\n",
       "      <td>Christopher Null</td>\n",
       "      <td>0</td>\n",
       "      <td>Filmcritic.com</td>\n",
       "      <td>September 7, 2003</td>\n",
       "    </tr>\n",
       "    <tr>\n",
       "      <th>54431</th>\n",
       "      <td>2000</td>\n",
       "      <td>NaN</td>\n",
       "      <td>3/5</td>\n",
       "      <td>fresh</td>\n",
       "      <td>Nicolas Lacroix</td>\n",
       "      <td>0</td>\n",
       "      <td>Showbizz.net</td>\n",
       "      <td>November 12, 2002</td>\n",
       "    </tr>\n",
       "  </tbody>\n",
       "</table>\n",
       "<p>54432 rows × 8 columns</p>\n",
       "</div>"
      ],
      "text/plain": [
       "         id                                             review rating   fresh  \\\n",
       "0         3  A distinctly gallows take on contemporary fina...    3/5   fresh   \n",
       "1         3  It's an allegory in search of a meaning that n...    NaN  rotten   \n",
       "2         3  ... life lived in a bubble in financial dealin...    NaN   fresh   \n",
       "3         3  Continuing along a line introduced in last yea...    NaN   fresh   \n",
       "4         3             ... a perverse twist on neorealism...     NaN   fresh   \n",
       "...     ...                                                ...    ...     ...   \n",
       "54427  2000  The real charm of this trifle is the deadpan c...    NaN   fresh   \n",
       "54428  2000                                                NaN    1/5  rotten   \n",
       "54429  2000                                                NaN    2/5  rotten   \n",
       "54430  2000                                                NaN  2.5/5  rotten   \n",
       "54431  2000                                                NaN    3/5   fresh   \n",
       "\n",
       "                  critic  top_critic         publisher                date  \n",
       "0             PJ Nabarro           0   Patrick Nabarro   November 10, 2018  \n",
       "1         Annalee Newitz           0           io9.com        May 23, 2018  \n",
       "2           Sean Axmaker           0  Stream on Demand     January 4, 2018  \n",
       "3          Daniel Kasman           0              MUBI   November 16, 2017  \n",
       "4                    NaN           0      Cinema Scope    October 12, 2017  \n",
       "...                  ...         ...               ...                 ...  \n",
       "54427      Laura Sinagra           1     Village Voice  September 24, 2002  \n",
       "54428  Michael Szymanski           0        Zap2it.com  September 21, 2005  \n",
       "54429       Emanuel Levy           0   EmanuelLevy.Com       July 17, 2005  \n",
       "54430   Christopher Null           0    Filmcritic.com   September 7, 2003  \n",
       "54431    Nicolas Lacroix           0      Showbizz.net   November 12, 2002  \n",
       "\n",
       "[54432 rows x 8 columns]"
      ]
     },
     "execution_count": 1343,
     "metadata": {},
     "output_type": "execute_result"
    }
   ],
   "source": [
    "dfreviews"
   ]
  },
  {
   "cell_type": "code",
   "execution_count": 1344,
   "metadata": {
    "scrolled": true
   },
   "outputs": [
    {
     "data": {
      "text/plain": [
       "6      678815482\n",
       "41     700059566\n",
       "112    417719760\n",
       "43     608581744\n",
       "135    335061807\n",
       "95     426525952\n",
       "983    216303339\n",
       "302    213511408\n",
       "91     220159104\n",
       "314    324591735\n",
       "Name: domestic_gross, dtype: int64"
      ]
     },
     "execution_count": 1344,
     "metadata": {},
     "output_type": "execute_result"
    }
   ],
   "source": []
  },
  {
   "cell_type": "code",
   "execution_count": 1345,
   "metadata": {
    "scrolled": true
   },
   "outputs": [
    {
     "data": {
      "text/html": [
       "<div>\n",
       "<style scoped>\n",
       "    .dataframe tbody tr th:only-of-type {\n",
       "        vertical-align: middle;\n",
       "    }\n",
       "\n",
       "    .dataframe tbody tr th {\n",
       "        vertical-align: top;\n",
       "    }\n",
       "\n",
       "    .dataframe thead th {\n",
       "        text-align: right;\n",
       "    }\n",
       "</style>\n",
       "<table border=\"1\" class=\"dataframe\">\n",
       "  <thead>\n",
       "    <tr style=\"text-align: right;\">\n",
       "      <th></th>\n",
       "      <th>id</th>\n",
       "      <th>release_date</th>\n",
       "      <th>movie</th>\n",
       "      <th>production_budget</th>\n",
       "      <th>domestic_gross</th>\n",
       "      <th>worldwide_gross</th>\n",
       "      <th>year</th>\n",
       "      <th>month</th>\n",
       "    </tr>\n",
       "  </thead>\n",
       "  <tbody>\n",
       "    <tr>\n",
       "      <th>6</th>\n",
       "      <td>7</td>\n",
       "      <td>2018-04-27</td>\n",
       "      <td>Avengers: Infinity War</td>\n",
       "      <td>300000000</td>\n",
       "      <td>678815482</td>\n",
       "      <td>2048134200</td>\n",
       "      <td>2018</td>\n",
       "      <td>4</td>\n",
       "    </tr>\n",
       "    <tr>\n",
       "      <th>41</th>\n",
       "      <td>42</td>\n",
       "      <td>2018-02-16</td>\n",
       "      <td>Black Panther</td>\n",
       "      <td>200000000</td>\n",
       "      <td>700059566</td>\n",
       "      <td>1348258224</td>\n",
       "      <td>2018</td>\n",
       "      <td>2</td>\n",
       "    </tr>\n",
       "    <tr>\n",
       "      <th>112</th>\n",
       "      <td>13</td>\n",
       "      <td>2018-06-22</td>\n",
       "      <td>Jurassic World: Fallen Kingdom</td>\n",
       "      <td>170000000</td>\n",
       "      <td>417719760</td>\n",
       "      <td>1305772799</td>\n",
       "      <td>2018</td>\n",
       "      <td>6</td>\n",
       "    </tr>\n",
       "    <tr>\n",
       "      <th>43</th>\n",
       "      <td>44</td>\n",
       "      <td>2018-06-15</td>\n",
       "      <td>Incredibles 2</td>\n",
       "      <td>200000000</td>\n",
       "      <td>608581744</td>\n",
       "      <td>1242520711</td>\n",
       "      <td>2018</td>\n",
       "      <td>6</td>\n",
       "    </tr>\n",
       "    <tr>\n",
       "      <th>135</th>\n",
       "      <td>36</td>\n",
       "      <td>2018-12-21</td>\n",
       "      <td>Aquaman</td>\n",
       "      <td>160000000</td>\n",
       "      <td>335061807</td>\n",
       "      <td>1146894640</td>\n",
       "      <td>2018</td>\n",
       "      <td>12</td>\n",
       "    </tr>\n",
       "    <tr>\n",
       "      <th>95</th>\n",
       "      <td>96</td>\n",
       "      <td>2019-03-08</td>\n",
       "      <td>Captain Marvel</td>\n",
       "      <td>175000000</td>\n",
       "      <td>426525952</td>\n",
       "      <td>1123061550</td>\n",
       "      <td>2019</td>\n",
       "      <td>3</td>\n",
       "    </tr>\n",
       "    <tr>\n",
       "      <th>983</th>\n",
       "      <td>84</td>\n",
       "      <td>2018-11-02</td>\n",
       "      <td>Bohemian Rhapsody</td>\n",
       "      <td>55000000</td>\n",
       "      <td>216303339</td>\n",
       "      <td>894985342</td>\n",
       "      <td>2018</td>\n",
       "      <td>11</td>\n",
       "    </tr>\n",
       "    <tr>\n",
       "      <th>302</th>\n",
       "      <td>3</td>\n",
       "      <td>2018-10-05</td>\n",
       "      <td>Venom</td>\n",
       "      <td>116000000</td>\n",
       "      <td>213511408</td>\n",
       "      <td>853628605</td>\n",
       "      <td>2018</td>\n",
       "      <td>10</td>\n",
       "    </tr>\n",
       "    <tr>\n",
       "      <th>91</th>\n",
       "      <td>92</td>\n",
       "      <td>2018-07-27</td>\n",
       "      <td>Mission: ImpossibleâFallout</td>\n",
       "      <td>178000000</td>\n",
       "      <td>220159104</td>\n",
       "      <td>787456552</td>\n",
       "      <td>2018</td>\n",
       "      <td>7</td>\n",
       "    </tr>\n",
       "    <tr>\n",
       "      <th>314</th>\n",
       "      <td>15</td>\n",
       "      <td>2018-05-18</td>\n",
       "      <td>Deadpool 2</td>\n",
       "      <td>110000000</td>\n",
       "      <td>324591735</td>\n",
       "      <td>786680557</td>\n",
       "      <td>2018</td>\n",
       "      <td>5</td>\n",
       "    </tr>\n",
       "  </tbody>\n",
       "</table>\n",
       "</div>"
      ],
      "text/plain": [
       "     id release_date                           movie  production_budget  \\\n",
       "6     7   2018-04-27          Avengers: Infinity War          300000000   \n",
       "41   42   2018-02-16                   Black Panther          200000000   \n",
       "112  13   2018-06-22  Jurassic World: Fallen Kingdom          170000000   \n",
       "43   44   2018-06-15                   Incredibles 2          200000000   \n",
       "135  36   2018-12-21                         Aquaman          160000000   \n",
       "95   96   2019-03-08                  Captain Marvel          175000000   \n",
       "983  84   2018-11-02               Bohemian Rhapsody           55000000   \n",
       "302   3   2018-10-05                           Venom          116000000   \n",
       "91   92   2018-07-27   Mission: ImpossibleâFallout          178000000   \n",
       "314  15   2018-05-18                      Deadpool 2          110000000   \n",
       "\n",
       "     domestic_gross  worldwide_gross  year  month  \n",
       "6         678815482       2048134200  2018      4  \n",
       "41        700059566       1348258224  2018      2  \n",
       "112       417719760       1305772799  2018      6  \n",
       "43        608581744       1242520711  2018      6  \n",
       "135       335061807       1146894640  2018     12  \n",
       "95        426525952       1123061550  2019      3  \n",
       "983       216303339        894985342  2018     11  \n",
       "302       213511408        853628605  2018     10  \n",
       "91        220159104        787456552  2018      7  \n",
       "314       324591735        786680557  2018      5  "
      ]
     },
     "execution_count": 1345,
     "metadata": {},
     "output_type": "execute_result"
    }
   ],
   "source": [
    "top10recentmovies"
   ]
  },
  {
   "cell_type": "code",
   "execution_count": 1346,
   "metadata": {
    "scrolled": true
   },
   "outputs": [],
   "source": [
    "top10recentmovies['total_gross']=top10recentmovies['domestic_gross']+top10recentmovies['worldwide_gross']"
   ]
  },
  {
   "cell_type": "code",
   "execution_count": 1347,
   "metadata": {
    "scrolled": true
   },
   "outputs": [
    {
     "data": {
      "text/html": [
       "<div>\n",
       "<style scoped>\n",
       "    .dataframe tbody tr th:only-of-type {\n",
       "        vertical-align: middle;\n",
       "    }\n",
       "\n",
       "    .dataframe tbody tr th {\n",
       "        vertical-align: top;\n",
       "    }\n",
       "\n",
       "    .dataframe thead th {\n",
       "        text-align: right;\n",
       "    }\n",
       "</style>\n",
       "<table border=\"1\" class=\"dataframe\">\n",
       "  <thead>\n",
       "    <tr style=\"text-align: right;\">\n",
       "      <th></th>\n",
       "      <th>id</th>\n",
       "      <th>release_date</th>\n",
       "      <th>movie</th>\n",
       "      <th>production_budget</th>\n",
       "      <th>domestic_gross</th>\n",
       "      <th>worldwide_gross</th>\n",
       "      <th>year</th>\n",
       "      <th>month</th>\n",
       "      <th>total_gross</th>\n",
       "    </tr>\n",
       "  </thead>\n",
       "  <tbody>\n",
       "    <tr>\n",
       "      <th>6</th>\n",
       "      <td>7</td>\n",
       "      <td>2018-04-27</td>\n",
       "      <td>Avengers: Infinity War</td>\n",
       "      <td>300000000</td>\n",
       "      <td>678815482</td>\n",
       "      <td>2048134200</td>\n",
       "      <td>2018</td>\n",
       "      <td>4</td>\n",
       "      <td>2726949682</td>\n",
       "    </tr>\n",
       "    <tr>\n",
       "      <th>41</th>\n",
       "      <td>42</td>\n",
       "      <td>2018-02-16</td>\n",
       "      <td>Black Panther</td>\n",
       "      <td>200000000</td>\n",
       "      <td>700059566</td>\n",
       "      <td>1348258224</td>\n",
       "      <td>2018</td>\n",
       "      <td>2</td>\n",
       "      <td>2048317790</td>\n",
       "    </tr>\n",
       "    <tr>\n",
       "      <th>112</th>\n",
       "      <td>13</td>\n",
       "      <td>2018-06-22</td>\n",
       "      <td>Jurassic World: Fallen Kingdom</td>\n",
       "      <td>170000000</td>\n",
       "      <td>417719760</td>\n",
       "      <td>1305772799</td>\n",
       "      <td>2018</td>\n",
       "      <td>6</td>\n",
       "      <td>1723492559</td>\n",
       "    </tr>\n",
       "    <tr>\n",
       "      <th>43</th>\n",
       "      <td>44</td>\n",
       "      <td>2018-06-15</td>\n",
       "      <td>Incredibles 2</td>\n",
       "      <td>200000000</td>\n",
       "      <td>608581744</td>\n",
       "      <td>1242520711</td>\n",
       "      <td>2018</td>\n",
       "      <td>6</td>\n",
       "      <td>1851102455</td>\n",
       "    </tr>\n",
       "    <tr>\n",
       "      <th>135</th>\n",
       "      <td>36</td>\n",
       "      <td>2018-12-21</td>\n",
       "      <td>Aquaman</td>\n",
       "      <td>160000000</td>\n",
       "      <td>335061807</td>\n",
       "      <td>1146894640</td>\n",
       "      <td>2018</td>\n",
       "      <td>12</td>\n",
       "      <td>1481956447</td>\n",
       "    </tr>\n",
       "    <tr>\n",
       "      <th>95</th>\n",
       "      <td>96</td>\n",
       "      <td>2019-03-08</td>\n",
       "      <td>Captain Marvel</td>\n",
       "      <td>175000000</td>\n",
       "      <td>426525952</td>\n",
       "      <td>1123061550</td>\n",
       "      <td>2019</td>\n",
       "      <td>3</td>\n",
       "      <td>1549587502</td>\n",
       "    </tr>\n",
       "    <tr>\n",
       "      <th>983</th>\n",
       "      <td>84</td>\n",
       "      <td>2018-11-02</td>\n",
       "      <td>Bohemian Rhapsody</td>\n",
       "      <td>55000000</td>\n",
       "      <td>216303339</td>\n",
       "      <td>894985342</td>\n",
       "      <td>2018</td>\n",
       "      <td>11</td>\n",
       "      <td>1111288681</td>\n",
       "    </tr>\n",
       "    <tr>\n",
       "      <th>302</th>\n",
       "      <td>3</td>\n",
       "      <td>2018-10-05</td>\n",
       "      <td>Venom</td>\n",
       "      <td>116000000</td>\n",
       "      <td>213511408</td>\n",
       "      <td>853628605</td>\n",
       "      <td>2018</td>\n",
       "      <td>10</td>\n",
       "      <td>1067140013</td>\n",
       "    </tr>\n",
       "    <tr>\n",
       "      <th>91</th>\n",
       "      <td>92</td>\n",
       "      <td>2018-07-27</td>\n",
       "      <td>Mission: ImpossibleâFallout</td>\n",
       "      <td>178000000</td>\n",
       "      <td>220159104</td>\n",
       "      <td>787456552</td>\n",
       "      <td>2018</td>\n",
       "      <td>7</td>\n",
       "      <td>1007615656</td>\n",
       "    </tr>\n",
       "    <tr>\n",
       "      <th>314</th>\n",
       "      <td>15</td>\n",
       "      <td>2018-05-18</td>\n",
       "      <td>Deadpool 2</td>\n",
       "      <td>110000000</td>\n",
       "      <td>324591735</td>\n",
       "      <td>786680557</td>\n",
       "      <td>2018</td>\n",
       "      <td>5</td>\n",
       "      <td>1111272292</td>\n",
       "    </tr>\n",
       "  </tbody>\n",
       "</table>\n",
       "</div>"
      ],
      "text/plain": [
       "     id release_date                           movie  production_budget  \\\n",
       "6     7   2018-04-27          Avengers: Infinity War          300000000   \n",
       "41   42   2018-02-16                   Black Panther          200000000   \n",
       "112  13   2018-06-22  Jurassic World: Fallen Kingdom          170000000   \n",
       "43   44   2018-06-15                   Incredibles 2          200000000   \n",
       "135  36   2018-12-21                         Aquaman          160000000   \n",
       "95   96   2019-03-08                  Captain Marvel          175000000   \n",
       "983  84   2018-11-02               Bohemian Rhapsody           55000000   \n",
       "302   3   2018-10-05                           Venom          116000000   \n",
       "91   92   2018-07-27   Mission: ImpossibleâFallout          178000000   \n",
       "314  15   2018-05-18                      Deadpool 2          110000000   \n",
       "\n",
       "     domestic_gross  worldwide_gross  year  month  total_gross  \n",
       "6         678815482       2048134200  2018      4   2726949682  \n",
       "41        700059566       1348258224  2018      2   2048317790  \n",
       "112       417719760       1305772799  2018      6   1723492559  \n",
       "43        608581744       1242520711  2018      6   1851102455  \n",
       "135       335061807       1146894640  2018     12   1481956447  \n",
       "95        426525952       1123061550  2019      3   1549587502  \n",
       "983       216303339        894985342  2018     11   1111288681  \n",
       "302       213511408        853628605  2018     10   1067140013  \n",
       "91        220159104        787456552  2018      7   1007615656  \n",
       "314       324591735        786680557  2018      5   1111272292  "
      ]
     },
     "execution_count": 1347,
     "metadata": {},
     "output_type": "execute_result"
    }
   ],
   "source": [
    "top10recentmovies"
   ]
  },
  {
   "cell_type": "code",
   "execution_count": 1356,
   "metadata": {
    "scrolled": true
   },
   "outputs": [
    {
     "data": {
      "text/plain": [
       "<bound method NDFrame.pct_change of      id release_date                           movie  production_budget  \\\n",
       "6     7   2018-04-27          Avengers: Infinity War          300000000   \n",
       "41   42   2018-02-16                   Black Panther          200000000   \n",
       "112  13   2018-06-22  Jurassic World: Fallen Kingdom          170000000   \n",
       "43   44   2018-06-15                   Incredibles 2          200000000   \n",
       "135  36   2018-12-21                         Aquaman          160000000   \n",
       "95   96   2019-03-08                  Captain Marvel          175000000   \n",
       "983  84   2018-11-02               Bohemian Rhapsody           55000000   \n",
       "302   3   2018-10-05                           Venom          116000000   \n",
       "91   92   2018-07-27   Mission: ImpossibleâFallout          178000000   \n",
       "314  15   2018-05-18                      Deadpool 2          110000000   \n",
       "\n",
       "     domestic_gross  worldwide_gross  year  month  total_gross  \n",
       "6         678815482       2048134200  2018      4   2726949682  \n",
       "41        700059566       1348258224  2018      2   2048317790  \n",
       "112       417719760       1305772799  2018      6   1723492559  \n",
       "43        608581744       1242520711  2018      6   1851102455  \n",
       "135       335061807       1146894640  2018     12   1481956447  \n",
       "95        426525952       1123061550  2019      3   1549587502  \n",
       "983       216303339        894985342  2018     11   1111288681  \n",
       "302       213511408        853628605  2018     10   1067140013  \n",
       "91        220159104        787456552  2018      7   1007615656  \n",
       "314       324591735        786680557  2018      5   1111272292  >"
      ]
     },
     "execution_count": 1356,
     "metadata": {},
     "output_type": "execute_result"
    }
   ],
   "source": []
  },
  {
   "cell_type": "code",
   "execution_count": null,
   "metadata": {
    "scrolled": true
   },
   "outputs": [],
   "source": []
  }
 ],
 "metadata": {
  "celltoolbar": "Attachments",
  "kernelspec": {
   "display_name": "Python 3 (ipykernel)",
   "language": "python",
   "name": "python3"
  },
  "language_info": {
   "codemirror_mode": {
    "name": "ipython",
    "version": 3
   },
   "file_extension": ".py",
   "mimetype": "text/x-python",
   "name": "python",
   "nbconvert_exporter": "python",
   "pygments_lexer": "ipython3",
   "version": "3.9.12"
  }
 },
 "nbformat": 4,
 "nbformat_minor": 2
}
